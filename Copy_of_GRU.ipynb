{
  "nbformat": 4,
  "nbformat_minor": 0,
  "metadata": {
    "kernelspec": {
      "display_name": "Python 3",
      "language": "python",
      "name": "python3"
    },
    "language_info": {
      "codemirror_mode": {
        "name": "ipython",
        "version": 3
      },
      "file_extension": ".py",
      "mimetype": "text/x-python",
      "name": "python",
      "nbconvert_exporter": "python",
      "pygments_lexer": "ipython3",
      "version": "3.7.3"
    },
    "latex_envs": {
      "LaTeX_envs_menu_present": true,
      "autoclose": false,
      "autocomplete": true,
      "bibliofile": "biblio.bib",
      "cite_by": "apalike",
      "current_citInitial": 1,
      "eqLabelWithNumbers": true,
      "eqNumInitial": 1,
      "hotkeys": {
        "equation": "Ctrl-E",
        "itemize": "Ctrl-I"
      },
      "labels_anchors": false,
      "latex_user_defs": false,
      "report_style_numbering": false,
      "user_envs_cfg": false
    },
    "nbTranslate": {
      "displayLangs": [
        "*"
      ],
      "hotkey": "alt-t",
      "langInMainMenu": true,
      "sourceLang": "en",
      "targetLang": "fr",
      "useGoogleTranslate": true
    },
    "colab": {
      "name": "Copy of  GRU.ipynb",
      "provenance": [],
      "collapsed_sections": [],
      "include_colab_link": true
    }
  },
  "cells": [
    {
      "cell_type": "markdown",
      "metadata": {
        "id": "view-in-github",
        "colab_type": "text"
      },
      "source": [
        "<a href=\"https://colab.research.google.com/github/hitesha14/Rising2021_Timeseries/blob/main/Copy_of_GRU.ipynb\" target=\"_parent\"><img src=\"https://colab.research.google.com/assets/colab-badge.svg\" alt=\"Open In Colab\"/></a>"
      ]
    },
    {
      "cell_type": "code",
      "metadata": {
        "ExecuteTime": {
          "end_time": "2020-03-01T09:24:39.462340Z",
          "start_time": "2020-03-01T09:24:39.456355Z"
        },
        "id": "9D-nwtGkD8tN"
      },
      "source": [
        "import pandas as pd\n",
        "import numpy as np\n",
        "import tensorflow as tf\n",
        "from sklearn import preprocessing\n",
        "import matplotlib.pyplot as plt\n",
        "tf.random.set_seed(123)\n",
        "np.random.seed(123)"
      ],
      "execution_count": null,
      "outputs": []
    },
    {
      "cell_type": "code",
      "metadata": {
        "ExecuteTime": {
          "end_time": "2020-03-01T09:24:40.717016Z",
          "start_time": "2020-03-01T09:24:40.632210Z"
        },
        "id": "l3BRDuYFD8tg"
      },
      "source": [
        "df = pd.read_csv(r'https://api.covid19india.org/csv/latest/case_time_series.csv')"
      ],
      "execution_count": null,
      "outputs": []
    },
    {
      "cell_type": "code",
      "metadata": {
        "ExecuteTime": {
          "end_time": "2020-03-01T09:24:41.401151Z",
          "start_time": "2020-03-01T09:24:41.385195Z"
        },
        "id": "OX5bfeHjD8ti",
        "colab": {
          "base_uri": "https://localhost:8080/",
          "height": 206
        },
        "outputId": "a27bcbfa-6cf0-4a33-9ba7-05a2ebe50f4c"
      },
      "source": [
        "df.head()"
      ],
      "execution_count": null,
      "outputs": [
        {
          "output_type": "execute_result",
          "data": {
            "text/html": [
              "<div>\n",
              "<style scoped>\n",
              "    .dataframe tbody tr th:only-of-type {\n",
              "        vertical-align: middle;\n",
              "    }\n",
              "\n",
              "    .dataframe tbody tr th {\n",
              "        vertical-align: top;\n",
              "    }\n",
              "\n",
              "    .dataframe thead th {\n",
              "        text-align: right;\n",
              "    }\n",
              "</style>\n",
              "<table border=\"1\" class=\"dataframe\">\n",
              "  <thead>\n",
              "    <tr style=\"text-align: right;\">\n",
              "      <th></th>\n",
              "      <th>Date</th>\n",
              "      <th>Date_YMD</th>\n",
              "      <th>Daily Confirmed</th>\n",
              "      <th>Total Confirmed</th>\n",
              "      <th>Daily Recovered</th>\n",
              "      <th>Total Recovered</th>\n",
              "      <th>Daily Deceased</th>\n",
              "      <th>Total Deceased</th>\n",
              "    </tr>\n",
              "  </thead>\n",
              "  <tbody>\n",
              "    <tr>\n",
              "      <th>0</th>\n",
              "      <td>30 January 2020</td>\n",
              "      <td>2020-01-30</td>\n",
              "      <td>1</td>\n",
              "      <td>1</td>\n",
              "      <td>0</td>\n",
              "      <td>0</td>\n",
              "      <td>0</td>\n",
              "      <td>0</td>\n",
              "    </tr>\n",
              "    <tr>\n",
              "      <th>1</th>\n",
              "      <td>31 January 2020</td>\n",
              "      <td>2020-01-31</td>\n",
              "      <td>0</td>\n",
              "      <td>1</td>\n",
              "      <td>0</td>\n",
              "      <td>0</td>\n",
              "      <td>0</td>\n",
              "      <td>0</td>\n",
              "    </tr>\n",
              "    <tr>\n",
              "      <th>2</th>\n",
              "      <td>1 February 2020</td>\n",
              "      <td>2020-02-01</td>\n",
              "      <td>0</td>\n",
              "      <td>1</td>\n",
              "      <td>0</td>\n",
              "      <td>0</td>\n",
              "      <td>0</td>\n",
              "      <td>0</td>\n",
              "    </tr>\n",
              "    <tr>\n",
              "      <th>3</th>\n",
              "      <td>2 February 2020</td>\n",
              "      <td>2020-02-02</td>\n",
              "      <td>1</td>\n",
              "      <td>2</td>\n",
              "      <td>0</td>\n",
              "      <td>0</td>\n",
              "      <td>0</td>\n",
              "      <td>0</td>\n",
              "    </tr>\n",
              "    <tr>\n",
              "      <th>4</th>\n",
              "      <td>3 February 2020</td>\n",
              "      <td>2020-02-03</td>\n",
              "      <td>1</td>\n",
              "      <td>3</td>\n",
              "      <td>0</td>\n",
              "      <td>0</td>\n",
              "      <td>0</td>\n",
              "      <td>0</td>\n",
              "    </tr>\n",
              "  </tbody>\n",
              "</table>\n",
              "</div>"
            ],
            "text/plain": [
              "              Date    Date_YMD  ...  Daily Deceased  Total Deceased\n",
              "0  30 January 2020  2020-01-30  ...               0               0\n",
              "1  31 January 2020  2020-01-31  ...               0               0\n",
              "2  1 February 2020  2020-02-01  ...               0               0\n",
              "3  2 February 2020  2020-02-02  ...               0               0\n",
              "4  3 February 2020  2020-02-03  ...               0               0\n",
              "\n",
              "[5 rows x 8 columns]"
            ]
          },
          "metadata": {
            "tags": []
          },
          "execution_count": 52
        }
      ]
    },
    {
      "cell_type": "code",
      "metadata": {
        "ExecuteTime": {
          "end_time": "2020-03-01T09:24:43.070683Z",
          "start_time": "2020-03-01T09:24:43.032827Z"
        },
        "id": "9Ku5IJBBD8tq",
        "colab": {
          "base_uri": "https://localhost:8080/",
          "height": 300
        },
        "outputId": "9bd33177-5aae-43fb-b2a7-7bfe184edcd6"
      },
      "source": [
        "df.describe()"
      ],
      "execution_count": null,
      "outputs": [
        {
          "output_type": "execute_result",
          "data": {
            "text/html": [
              "<div>\n",
              "<style scoped>\n",
              "    .dataframe tbody tr th:only-of-type {\n",
              "        vertical-align: middle;\n",
              "    }\n",
              "\n",
              "    .dataframe tbody tr th {\n",
              "        vertical-align: top;\n",
              "    }\n",
              "\n",
              "    .dataframe thead th {\n",
              "        text-align: right;\n",
              "    }\n",
              "</style>\n",
              "<table border=\"1\" class=\"dataframe\">\n",
              "  <thead>\n",
              "    <tr style=\"text-align: right;\">\n",
              "      <th></th>\n",
              "      <th>Daily Confirmed</th>\n",
              "      <th>Total Confirmed</th>\n",
              "      <th>Daily Recovered</th>\n",
              "      <th>Total Recovered</th>\n",
              "      <th>Daily Deceased</th>\n",
              "      <th>Total Deceased</th>\n",
              "    </tr>\n",
              "  </thead>\n",
              "  <tbody>\n",
              "    <tr>\n",
              "      <th>count</th>\n",
              "      <td>478.000000</td>\n",
              "      <td>4.780000e+02</td>\n",
              "      <td>478.000000</td>\n",
              "      <td>4.780000e+02</td>\n",
              "      <td>478.000000</td>\n",
              "      <td>478.000000</td>\n",
              "    </tr>\n",
              "    <tr>\n",
              "      <th>mean</th>\n",
              "      <td>54995.529289</td>\n",
              "      <td>6.294503e+06</td>\n",
              "      <td>48249.930962</td>\n",
              "      <td>5.657688e+06</td>\n",
              "      <td>617.089958</td>\n",
              "      <td>87415.654812</td>\n",
              "    </tr>\n",
              "    <tr>\n",
              "      <th>std</th>\n",
              "      <td>87250.607082</td>\n",
              "      <td>6.199014e+06</td>\n",
              "      <td>77991.369440</td>\n",
              "      <td>5.565253e+06</td>\n",
              "      <td>895.591405</td>\n",
              "      <td>75238.905902</td>\n",
              "    </tr>\n",
              "    <tr>\n",
              "      <th>min</th>\n",
              "      <td>0.000000</td>\n",
              "      <td>1.000000e+00</td>\n",
              "      <td>0.000000</td>\n",
              "      <td>0.000000e+00</td>\n",
              "      <td>0.000000</td>\n",
              "      <td>0.000000</td>\n",
              "    </tr>\n",
              "    <tr>\n",
              "      <th>25%</th>\n",
              "      <td>7371.250000</td>\n",
              "      <td>1.673925e+05</td>\n",
              "      <td>3812.250000</td>\n",
              "      <td>7.382975e+04</td>\n",
              "      <td>100.000000</td>\n",
              "      <td>4777.250000</td>\n",
              "    </tr>\n",
              "    <tr>\n",
              "      <th>50%</th>\n",
              "      <td>23662.000000</td>\n",
              "      <td>5.858972e+06</td>\n",
              "      <td>20573.000000</td>\n",
              "      <td>4.799650e+06</td>\n",
              "      <td>342.000000</td>\n",
              "      <td>92279.500000</td>\n",
              "    </tr>\n",
              "    <tr>\n",
              "      <th>75%</th>\n",
              "      <td>61675.500000</td>\n",
              "      <td>1.063689e+07</td>\n",
              "      <td>58095.750000</td>\n",
              "      <td>1.029560e+07</td>\n",
              "      <td>775.000000</td>\n",
              "      <td>152591.750000</td>\n",
              "    </tr>\n",
              "    <tr>\n",
              "      <th>max</th>\n",
              "      <td>414280.000000</td>\n",
              "      <td>2.628786e+07</td>\n",
              "      <td>422391.000000</td>\n",
              "      <td>2.306347e+07</td>\n",
              "      <td>4529.000000</td>\n",
              "      <td>294969.000000</td>\n",
              "    </tr>\n",
              "  </tbody>\n",
              "</table>\n",
              "</div>"
            ],
            "text/plain": [
              "       Daily Confirmed  Total Confirmed  ...  Daily Deceased  Total Deceased\n",
              "count       478.000000     4.780000e+02  ...      478.000000      478.000000\n",
              "mean      54995.529289     6.294503e+06  ...      617.089958    87415.654812\n",
              "std       87250.607082     6.199014e+06  ...      895.591405    75238.905902\n",
              "min           0.000000     1.000000e+00  ...        0.000000        0.000000\n",
              "25%        7371.250000     1.673925e+05  ...      100.000000     4777.250000\n",
              "50%       23662.000000     5.858972e+06  ...      342.000000    92279.500000\n",
              "75%       61675.500000     1.063689e+07  ...      775.000000   152591.750000\n",
              "max      414280.000000     2.628786e+07  ...     4529.000000   294969.000000\n",
              "\n",
              "[8 rows x 6 columns]"
            ]
          },
          "metadata": {
            "tags": []
          },
          "execution_count": 53
        }
      ]
    },
    {
      "cell_type": "code",
      "metadata": {
        "ExecuteTime": {
          "end_time": "2020-03-01T09:24:44.774126Z",
          "start_time": "2020-03-01T09:24:44.755176Z"
        },
        "id": "ix9tc0KbD8tr"
      },
      "source": [
        "df.drop_duplicates(subset=['Date_YMD'], keep=False,inplace=True)"
      ],
      "execution_count": null,
      "outputs": []
    },
    {
      "cell_type": "code",
      "metadata": {
        "ExecuteTime": {
          "end_time": "2020-03-01T09:24:45.986881Z",
          "start_time": "2020-03-01T09:24:45.976933Z"
        },
        "id": "EKbWRSlQD8ts"
      },
      "source": [
        "validate = df['Daily Confirmed'].tail(10)\n",
        "df.drop(df['Daily Confirmed'].tail(10).index,inplace=True)"
      ],
      "execution_count": null,
      "outputs": []
    },
    {
      "cell_type": "code",
      "metadata": {
        "ExecuteTime": {
          "end_time": "2020-03-01T09:24:52.173327Z",
          "start_time": "2020-03-01T09:24:52.164353Z"
        },
        "id": "HXLY2tVcD8tv",
        "colab": {
          "base_uri": "https://localhost:8080/"
        },
        "outputId": "e3cc6f7b-e214-49b9-8286-59f283868a50"
      },
      "source": [
        "uni_data = df['Daily Confirmed']\n",
        "df['Date_YMD'] =  pd.to_datetime(df['Date_YMD'])\n",
        "uni_data.index = df['Date_YMD']\n",
        "uni_data.head()"
      ],
      "execution_count": null,
      "outputs": [
        {
          "output_type": "execute_result",
          "data": {
            "text/plain": [
              "Date_YMD\n",
              "2020-01-30    1\n",
              "2020-01-31    0\n",
              "2020-02-01    0\n",
              "2020-02-02    1\n",
              "2020-02-03    1\n",
              "Name: Daily Confirmed, dtype: int64"
            ]
          },
          "metadata": {
            "tags": []
          },
          "execution_count": 56
        }
      ]
    },
    {
      "cell_type": "code",
      "metadata": {
        "ExecuteTime": {
          "end_time": "2020-03-01T09:24:53.998445Z",
          "start_time": "2020-03-01T09:24:53.992465Z"
        },
        "id": "yVvSEUXHD8tx"
      },
      "source": [
        "uni_data = uni_data.values\n",
        "scaler_x = preprocessing.MinMaxScaler()\n",
        "x_rescaled = scaler_x.fit_transform(uni_data.reshape(-1, 1))"
      ],
      "execution_count": null,
      "outputs": []
    },
    {
      "cell_type": "code",
      "metadata": {
        "ExecuteTime": {
          "end_time": "2020-03-01T09:24:54.565924Z",
          "start_time": "2020-03-01T09:24:54.556950Z"
        },
        "id": "8vvRf6FGD8ty"
      },
      "source": [
        "def custom_ts_univariate_data_prep(dataset, start, end, window, horizon):\n",
        "  X = []\n",
        "  y = []\n",
        "\n",
        "  start = start + window\n",
        "  if end is None:\n",
        "    end = len(dataset) - horizon\n",
        "\n",
        "  for i in range(start, end):\n",
        "    indicesx = range(i-window, i)\n",
        "    X.append(np.reshape(dataset[indicesx], (window, 1)))\n",
        "    indicesy = range(i,i+horizon)\n",
        "    y.append(dataset[indicesy])\n",
        "  return np.array(X), np.array(y)"
      ],
      "execution_count": null,
      "outputs": []
    },
    {
      "cell_type": "code",
      "metadata": {
        "ExecuteTime": {
          "end_time": "2020-03-01T09:25:07.767635Z",
          "start_time": "2020-03-01T09:25:06.608726Z"
        },
        "id": "B3HQuYgHD8tz"
      },
      "source": [
        "univar_hist_window = 48\n",
        "horizon = 10\n",
        "TRAIN_SPLIT = 400\n",
        "x_train_uni, y_train_uni = custom_ts_univariate_data_prep(x_rescaled, 0, TRAIN_SPLIT,univar_hist_window, horizon)\n",
        "x_val_uni, y_val_uni = custom_ts_univariate_data_prep(x_rescaled, TRAIN_SPLIT, None,univar_hist_window,horizon)"
      ],
      "execution_count": null,
      "outputs": []
    },
    {
      "cell_type": "code",
      "metadata": {
        "ExecuteTime": {
          "end_time": "2020-03-01T09:25:07.781563Z",
          "start_time": "2020-03-01T09:25:07.769595Z"
        },
        "id": "Q7-x-XTLD8t1",
        "colab": {
          "base_uri": "https://localhost:8080/"
        },
        "outputId": "98b863b6-4688-4ba1-8b5e-382d19d12947"
      },
      "source": [
        "print ('Single window of past history')\n",
        "print (x_train_uni[0])\n",
        "print ('\\n Target horizon')\n",
        "print (y_train_uni[0])"
      ],
      "execution_count": null,
      "outputs": [
        {
          "output_type": "stream",
          "text": [
            "Single window of past history\n",
            "[[2.41382640e-06]\n",
            " [0.00000000e+00]\n",
            " [0.00000000e+00]\n",
            " [2.41382640e-06]\n",
            " [2.41382640e-06]\n",
            " [0.00000000e+00]\n",
            " [0.00000000e+00]\n",
            " [0.00000000e+00]\n",
            " [0.00000000e+00]\n",
            " [0.00000000e+00]\n",
            " [0.00000000e+00]\n",
            " [0.00000000e+00]\n",
            " [0.00000000e+00]\n",
            " [0.00000000e+00]\n",
            " [0.00000000e+00]\n",
            " [0.00000000e+00]\n",
            " [0.00000000e+00]\n",
            " [0.00000000e+00]\n",
            " [0.00000000e+00]\n",
            " [0.00000000e+00]\n",
            " [0.00000000e+00]\n",
            " [0.00000000e+00]\n",
            " [0.00000000e+00]\n",
            " [0.00000000e+00]\n",
            " [0.00000000e+00]\n",
            " [0.00000000e+00]\n",
            " [0.00000000e+00]\n",
            " [0.00000000e+00]\n",
            " [0.00000000e+00]\n",
            " [0.00000000e+00]\n",
            " [0.00000000e+00]\n",
            " [0.00000000e+00]\n",
            " [4.82765280e-06]\n",
            " [2.41382640e-06]\n",
            " [5.31041807e-05]\n",
            " [4.82765280e-06]\n",
            " [2.41382640e-06]\n",
            " [7.24147919e-06]\n",
            " [1.20691320e-05]\n",
            " [2.17244376e-05]\n",
            " [3.62073960e-05]\n",
            " [1.93106112e-05]\n",
            " [2.41382640e-05]\n",
            " [2.41382640e-05]\n",
            " [2.65520904e-05]\n",
            " [2.41382640e-05]\n",
            " [3.37935696e-05]\n",
            " [4.82765280e-05]]\n",
            "\n",
            " Target horizon\n",
            "[[6.03456599e-05]\n",
            " [6.51733127e-05]\n",
            " [1.40001931e-04]\n",
            " [1.88278459e-04]\n",
            " [1.66554021e-04]\n",
            " [2.26899681e-04]\n",
            " [1.78623153e-04]\n",
            " [2.07589070e-04]\n",
            " [1.76209327e-04]\n",
            " [3.69315439e-04]]\n"
          ],
          "name": "stdout"
        }
      ]
    },
    {
      "cell_type": "code",
      "metadata": {
        "ExecuteTime": {
          "end_time": "2020-03-01T09:25:14.978342Z",
          "start_time": "2020-03-01T09:25:14.967366Z"
        },
        "id": "UkLPQVedD8t6"
      },
      "source": [
        "BATCH_SIZE = 20\n",
        "BUFFER_SIZE = 150\n",
        "\n",
        "train_univariate = tf.data.Dataset.from_tensor_slices((x_train_uni, y_train_uni))\n",
        "train_univariate = train_univariate.cache().shuffle(BUFFER_SIZE).batch(BATCH_SIZE).repeat()\n",
        "\n",
        "val_univariate = tf.data.Dataset.from_tensor_slices((x_val_uni, y_val_uni))\n",
        "val_univariate = val_univariate.batch(BATCH_SIZE).repeat()"
      ],
      "execution_count": null,
      "outputs": []
    },
    {
      "cell_type": "code",
      "metadata": {
        "ExecuteTime": {
          "end_time": "2020-03-01T09:25:30.510780Z",
          "start_time": "2020-03-01T09:25:29.877475Z"
        },
        "id": "i64RRdTzD8t7"
      },
      "source": [
        "GRU_model = tf.keras.models.Sequential([\n",
        "    tf.keras.layers.GRU(100, input_shape=x_train_uni.shape[-2:],return_sequences=True),\n",
        "    tf.keras.layers.Dropout(0.2),\n",
        "    tf.keras.layers.GRU(units=50,return_sequences=False),\n",
        "    tf.keras.layers.Dropout(0.2),\n",
        "    tf.keras.layers.Dense(units=horizon),\n",
        "])\n",
        "GRU_model.compile(optimizer='adam', loss='mse')\n"
      ],
      "execution_count": null,
      "outputs": []
    },
    {
      "cell_type": "code",
      "metadata": {
        "ExecuteTime": {
          "end_time": "2020-03-01T09:28:10.591951Z",
          "start_time": "2020-03-01T09:28:10.587960Z"
        },
        "id": "LQlbZLoSD8t8"
      },
      "source": [
        "model_path = r'\\Chapter 6\\GRU_Univarient_1.h5'"
      ],
      "execution_count": null,
      "outputs": []
    },
    {
      "cell_type": "code",
      "metadata": {
        "ExecuteTime": {
          "end_time": "2020-03-01T09:28:37.344366Z",
          "start_time": "2020-03-01T09:28:11.460629Z"
        },
        "scrolled": true,
        "id": "-dWimaTGD8t8",
        "colab": {
          "base_uri": "https://localhost:8080/"
        },
        "outputId": "e1bd9c17-5535-417d-afeb-2a15c4607e51"
      },
      "source": [
        "EVALUATION_INTERVAL = 100\n",
        "EPOCHS = 150\n",
        "history = GRU_model.fit(train_univariate, epochs=EPOCHS,steps_per_epoch=EVALUATION_INTERVAL,validation_data=val_univariate, validation_steps=50,verbose =1,\n",
        "                              callbacks =[tf.keras.callbacks.EarlyStopping(monitor='val_loss', min_delta=0, patience=10, verbose=1, mode='min'),tf.keras.callbacks.ModelCheckpoint(model_path,monitor='val_loss', save_best_only=True, mode='min', verbose=0)])"
      ],
      "execution_count": null,
      "outputs": [
        {
          "output_type": "stream",
          "text": [
            "Epoch 1/150\n",
            "100/100 [==============================] - 8s 54ms/step - loss: 0.0030 - val_loss: 0.0665\n",
            "Epoch 2/150\n",
            "100/100 [==============================] - 5s 48ms/step - loss: 5.6620e-04 - val_loss: 0.0405\n",
            "Epoch 3/150\n",
            "100/100 [==============================] - 5s 48ms/step - loss: 4.5887e-04 - val_loss: 0.0352\n",
            "Epoch 4/150\n",
            "100/100 [==============================] - 5s 48ms/step - loss: 3.6261e-04 - val_loss: 0.0202\n",
            "Epoch 5/150\n",
            "100/100 [==============================] - 5s 50ms/step - loss: 3.6961e-04 - val_loss: 0.0324\n",
            "Epoch 6/150\n",
            "100/100 [==============================] - 5s 48ms/step - loss: 3.3089e-04 - val_loss: 0.0252\n",
            "Epoch 7/150\n",
            "100/100 [==============================] - 5s 48ms/step - loss: 2.8611e-04 - val_loss: 0.0166\n",
            "Epoch 8/150\n",
            "100/100 [==============================] - 5s 48ms/step - loss: 2.8932e-04 - val_loss: 0.0301\n",
            "Epoch 9/150\n",
            "100/100 [==============================] - 5s 49ms/step - loss: 2.5577e-04 - val_loss: 0.0125\n",
            "Epoch 10/150\n",
            "100/100 [==============================] - 5s 48ms/step - loss: 2.6195e-04 - val_loss: 0.0144\n",
            "Epoch 11/150\n",
            "100/100 [==============================] - 5s 49ms/step - loss: 2.7183e-04 - val_loss: 0.0274\n",
            "Epoch 12/150\n",
            "100/100 [==============================] - 5s 49ms/step - loss: 2.3627e-04 - val_loss: 0.0338\n",
            "Epoch 13/150\n",
            "100/100 [==============================] - 5s 48ms/step - loss: 2.1129e-04 - val_loss: 0.0144\n",
            "Epoch 14/150\n",
            "100/100 [==============================] - 5s 49ms/step - loss: 2.4080e-04 - val_loss: 0.0230\n",
            "Epoch 15/150\n",
            "100/100 [==============================] - 5s 49ms/step - loss: 2.2404e-04 - val_loss: 0.0341\n",
            "Epoch 16/150\n",
            "100/100 [==============================] - 5s 48ms/step - loss: 2.1614e-04 - val_loss: 0.0374\n",
            "Epoch 17/150\n",
            "100/100 [==============================] - 5s 49ms/step - loss: 2.1033e-04 - val_loss: 0.0372\n",
            "Epoch 18/150\n",
            "100/100 [==============================] - 5s 49ms/step - loss: 1.9653e-04 - val_loss: 0.0446\n",
            "Epoch 19/150\n",
            "100/100 [==============================] - 5s 49ms/step - loss: 2.2464e-04 - val_loss: 0.0545\n",
            "Epoch 00019: early stopping\n"
          ],
          "name": "stdout"
        }
      ]
    },
    {
      "cell_type": "code",
      "metadata": {
        "ExecuteTime": {
          "end_time": "2020-03-01T09:29:30.040396Z",
          "start_time": "2020-03-01T09:29:28.371830Z"
        },
        "id": "32aFmAXwD8t9"
      },
      "source": [
        "# Recreate the exact same model, including its weights and the optimizer\n",
        "Trained_model = tf.keras.models.load_model(model_path)"
      ],
      "execution_count": null,
      "outputs": []
    },
    {
      "cell_type": "code",
      "metadata": {
        "ExecuteTime": {
          "end_time": "2020-03-01T09:29:31.578248Z",
          "start_time": "2020-03-01T09:29:31.571269Z"
        },
        "id": "PcxvOKc2D8t-",
        "colab": {
          "base_uri": "https://localhost:8080/"
        },
        "outputId": "4070a6a3-c2d4-48d3-a48c-2ffa9237a9f9"
      },
      "source": [
        "# Show the model architecture\n",
        "Trained_model.summary()"
      ],
      "execution_count": null,
      "outputs": [
        {
          "output_type": "stream",
          "text": [
            "Model: \"sequential_2\"\n",
            "_________________________________________________________________\n",
            "Layer (type)                 Output Shape              Param #   \n",
            "=================================================================\n",
            "gru_4 (GRU)                  (None, 48, 100)           30900     \n",
            "_________________________________________________________________\n",
            "dropout_4 (Dropout)          (None, 48, 100)           0         \n",
            "_________________________________________________________________\n",
            "gru_5 (GRU)                  (None, 50)                22800     \n",
            "_________________________________________________________________\n",
            "dropout_5 (Dropout)          (None, 50)                0         \n",
            "_________________________________________________________________\n",
            "dense_2 (Dense)              (None, 10)                510       \n",
            "=================================================================\n",
            "Total params: 54,210\n",
            "Trainable params: 54,210\n",
            "Non-trainable params: 0\n",
            "_________________________________________________________________\n"
          ],
          "name": "stdout"
        }
      ]
    },
    {
      "cell_type": "code",
      "metadata": {
        "ExecuteTime": {
          "end_time": "2020-03-01T09:29:34.342853Z",
          "start_time": "2020-03-01T09:29:34.079557Z"
        },
        "id": "Jvw41y3SD8t_",
        "colab": {
          "base_uri": "https://localhost:8080/",
          "height": 567
        },
        "outputId": "7cb5c9cb-d37b-47da-de10-7895fd8fe315"
      },
      "source": [
        "plt.plot(history.history['loss'])\n",
        "plt.plot(history.history['val_loss'])\n",
        "plt.title('Model loss')\n",
        "plt.ylabel('loss')\n",
        "plt.xlabel('epoch')\n",
        "plt.legend(['train loss', 'validation loss'], loc='upper left')\n",
        "plt.rcParams[\"figure.figsize\"] = [16,9]\n",
        "plt.show()"
      ],
      "execution_count": null,
      "outputs": [
        {
          "output_type": "display_data",
          "data": {
            "image/png": "[encoded data removed]",
            "text/plain": [
              "<Figure size 1152x648 with 1 Axes>"
            ]
          },
          "metadata": {
            "tags": [],
            "needs_background": "light"
          }
        }
      ]
    },
    {
      "cell_type": "code",
      "metadata": {
        "ExecuteTime": {
          "end_time": "2020-03-01T09:30:07.435307Z",
          "start_time": "2020-03-01T09:30:07.431318Z"
        },
        "id": "-rMDboddD8uA"
      },
      "source": [
        "uni = df['Daily Confirmed']\n",
        "validatehori = uni.tail(48)"
      ],
      "execution_count": null,
      "outputs": []
    },
    {
      "cell_type": "code",
      "metadata": {
        "ExecuteTime": {
          "end_time": "2020-03-01T09:30:08.609163Z",
          "start_time": "2020-03-01T09:30:08.603183Z"
        },
        "id": "4SQMYs6HD8uB"
      },
      "source": [
        "validatehist = validatehori.values\n",
        "scaler_val = preprocessing.MinMaxScaler()\n",
        "val_rescaled = scaler_x.fit_transform(validatehist.reshape(-1, 1))"
      ],
      "execution_count": null,
      "outputs": []
    },
    {
      "cell_type": "code",
      "metadata": {
        "ExecuteTime": {
          "end_time": "2020-03-01T09:30:09.799977Z",
          "start_time": "2020-03-01T09:30:09.795989Z"
        },
        "id": "47Ts-7AxD8uC"
      },
      "source": [
        "val_rescaled = val_rescaled.reshape((1, val_rescaled.shape[0], 1))"
      ],
      "execution_count": null,
      "outputs": []
    },
    {
      "cell_type": "code",
      "metadata": {
        "ExecuteTime": {
          "end_time": "2020-03-01T09:30:11.679979Z",
          "start_time": "2020-03-01T09:30:11.055618Z"
        },
        "id": "4Duf0rPgD8uC"
      },
      "source": [
        "Predicted_results = Trained_model.predict(val_rescaled)"
      ],
      "execution_count": null,
      "outputs": []
    },
    {
      "cell_type": "code",
      "metadata": {
        "ExecuteTime": {
          "end_time": "2020-03-01T09:30:12.753075Z",
          "start_time": "2020-03-01T09:30:12.748092Z"
        },
        "id": "u-Zbz9ePD8uC",
        "colab": {
          "base_uri": "https://localhost:8080/"
        },
        "outputId": "a23e57d8-bb36-410f-d7ed-61a7982b0d62"
      },
      "source": [
        "Predicted_results"
      ],
      "execution_count": null,
      "outputs": [
        {
          "output_type": "execute_result",
          "data": {
            "text/plain": [
              "array([[0.7460373 , 0.68408716, 0.65702283, 0.6183448 , 0.5633169 ,\n",
              "        0.5381933 , 0.5162927 , 0.5138012 , 0.502023  , 0.45124468]],\n",
              "      dtype=float32)"
            ]
          },
          "metadata": {
            "tags": []
          },
          "execution_count": 72
        }
      ]
    },
    {
      "cell_type": "code",
      "metadata": {
        "ExecuteTime": {
          "end_time": "2020-03-01T09:30:14.487435Z",
          "start_time": "2020-03-01T09:30:14.482449Z"
        },
        "id": "KT5e07dsD8uD"
      },
      "source": [
        "Predicted_inver_res = scaler_x.inverse_transform(Predicted_results)"
      ],
      "execution_count": null,
      "outputs": []
    },
    {
      "cell_type": "code",
      "metadata": {
        "ExecuteTime": {
          "end_time": "2020-03-01T09:30:15.377053Z",
          "start_time": "2020-03-01T09:30:15.371069Z"
        },
        "id": "Gylbpxx0D8uD",
        "colab": {
          "base_uri": "https://localhost:8080/"
        },
        "outputId": "375e44cc-1e7c-41ad-fe1f-758b0be35e6e"
      },
      "source": [
        "Predicted_inver_res"
      ],
      "execution_count": null,
      "outputs": [
        {
          "output_type": "execute_result",
          "data": {
            "text/plain": [
              "array([[322588.56, 300221.88, 290450.5 , 276486.06, 256618.62, 247547.92,\n",
              "        239640.88, 238741.34, 234488.89, 216155.73]], dtype=float32)"
            ]
          },
          "metadata": {
            "tags": []
          },
          "execution_count": 74
        }
      ]
    },
    {
      "cell_type": "code",
      "metadata": {
        "ExecuteTime": {
          "end_time": "2020-03-01T09:30:22.996665Z",
          "start_time": "2020-03-01T09:30:22.962757Z"
        },
        "id": "8_UC98c9D8uE"
      },
      "source": [
        "from sklearn import metrics\n",
        "def timeseries_evaluation_metrics_func(y_true, y_pred):\n",
        "    \n",
        "    def mean_absolute_percentage_error(y_true, y_pred): \n",
        "        y_true, y_pred = np.array(y_true), np.array(y_pred)\n",
        "        return np.mean(np.abs((y_true - y_pred) / y_true)) * 100\n",
        "    print('Evaluation metric results:-')\n",
        "    print(f'MSE is : {metrics.mean_squared_error(y_true, y_pred)}')\n",
        "    print(f'MAE is : {metrics.mean_absolute_error(y_true, y_pred)}')\n",
        "    print(f'RMSE is : {np.sqrt(metrics.mean_squared_error(y_true, y_pred))}')\n",
        "    print(f'MAPE is : {mean_absolute_percentage_error(y_true, y_pred)}')\n",
        "    print(f'R2 is : {metrics.r2_score(y_true, y_pred)}',end='\\n\\n')"
      ],
      "execution_count": null,
      "outputs": []
    },
    {
      "cell_type": "code",
      "metadata": {
        "ExecuteTime": {
          "end_time": "2020-03-01T09:30:24.793857Z",
          "start_time": "2020-03-01T09:30:24.784881Z"
        },
        "id": "MEgq7XesD8uF",
        "colab": {
          "base_uri": "https://localhost:8080/"
        },
        "outputId": "395da819-a0c8-4de4-8bb4-10a3b7304109"
      },
      "source": [
        "timeseries_evaluation_metrics_func(validate,Predicted_inver_res[0])"
      ],
      "execution_count": null,
      "outputs": [
        {
          "output_type": "stream",
          "text": [
            "Evaluation metric results:-\n",
            "MSE is : 1123594045.5417724\n",
            "MAE is : 32454.7609375\n",
            "RMSE is : 33520.05437856228\n",
            "MAPE is : 10.977719236326797\n",
            "R2 is : 0.14380216778246147\n",
            "\n"
          ],
          "name": "stdout"
        }
      ]
    },
    {
      "cell_type": "code",
      "metadata": {
        "ExecuteTime": {
          "end_time": "2020-03-01T09:30:26.728717Z",
          "start_time": "2020-03-01T09:30:26.487331Z"
        },
        "id": "KCSAnCuKD8uG",
        "colab": {
          "base_uri": "https://localhost:8080/",
          "height": 553
        },
        "outputId": "e8f46dca-b8fb-4137-88a8-52a8d5abea6c"
      },
      "source": [
        "plt.plot( list(validate))\n",
        "plt.plot( list(Predicted_inver_res[0]))\n",
        "plt.title(\"Actual vs Predicted\")\n",
        "plt.ylabel(\"Daily Confirmed\")\n",
        "plt.legend(('Actual','predicted'))\n",
        "plt.show()"
      ],
      "execution_count": null,
      "outputs": [
        {
          "output_type": "display_data",
          "data": {
            "image/png": "[encoded data removed]",
            "text/plain": [
              "<Figure size 1152x648 with 1 Axes>"
            ]
          },
          "metadata": {
            "tags": [],
            "needs_background": "light"
          }
        }
      ]
    },
    {
      "cell_type": "code",
      "metadata": {
        "id": "PtWJjm6dk3Q8"
      },
      "source": [
        ""
      ],
      "execution_count": null,
      "outputs": []
    }
  ]
}