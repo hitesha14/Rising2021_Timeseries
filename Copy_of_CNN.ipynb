{
  "nbformat": 4,
  "nbformat_minor": 0,
  "metadata": {
    "kernelspec": {
      "display_name": "Python 3",
      "language": "python",
      "name": "python3"
    },
    "language_info": {
      "codemirror_mode": {
        "name": "ipython",
        "version": 3
      },
      "file_extension": ".py",
      "mimetype": "text/x-python",
      "name": "python",
      "nbconvert_exporter": "python",
      "pygments_lexer": "ipython3",
      "version": "3.7.3"
    },
    "latex_envs": {
      "LaTeX_envs_menu_present": true,
      "autoclose": false,
      "autocomplete": true,
      "bibliofile": "biblio.bib",
      "cite_by": "apalike",
      "current_citInitial": 1,
      "eqLabelWithNumbers": true,
      "eqNumInitial": 1,
      "hotkeys": {
        "equation": "Ctrl-E",
        "itemize": "Ctrl-I"
      },
      "labels_anchors": false,
      "latex_user_defs": false,
      "report_style_numbering": false,
      "user_envs_cfg": false
    },
    "nbTranslate": {
      "displayLangs": [
        "*"
      ],
      "hotkey": "alt-t",
      "langInMainMenu": true,
      "sourceLang": "en",
      "targetLang": "fr",
      "useGoogleTranslate": true
    },
    "colab": {
      "name": "Copy of CNN.ipynb",
      "provenance": [],
      "collapsed_sections": [],
      "include_colab_link": true
    }
  },
  "cells": [
    {
      "cell_type": "markdown",
      "metadata": {
        "id": "view-in-github",
        "colab_type": "text"
      },
      "source": [
        "<a href=\"https://colab.research.google.com/github/hitesha14/Rising2021_Timeseries/blob/main/Copy_of_CNN.ipynb\" target=\"_parent\"><img src=\"https://colab.research.google.com/assets/colab-badge.svg\" alt=\"Open In Colab\"/></a>"
      ]
    },
    {
      "cell_type": "code",
      "metadata": {
        "ExecuteTime": {
          "end_time": "2020-03-01T07:30:29.048869Z",
          "start_time": "2020-03-01T07:30:23.960484Z"
        },
        "id": "gWoh8x3T4Xp-"
      },
      "source": [
        "import pandas as pd\n",
        "import numpy as np\n",
        "import tensorflow as tf\n",
        "from sklearn import preprocessing\n",
        "import matplotlib.pyplot as plt\n",
        "from tensorflow.keras.models import Sequential\n",
        "from tensorflow.keras.layers import Dense\n",
        "from tensorflow.keras.layers import Flatten\n",
        "from tensorflow.keras.layers import Conv1D\n",
        "from tensorflow.keras.layers import MaxPool1D\n",
        "from tensorflow.keras.layers import Dropout\n",
        "tf.random.set_seed(123)\n",
        "np.random.seed(123)"
      ],
      "execution_count": null,
      "outputs": []
    },
    {
      "cell_type": "code",
      "metadata": {
        "ExecuteTime": {
          "end_time": "2020-03-01T07:30:29.130651Z",
          "start_time": "2020-03-01T07:30:29.050864Z"
        },
        "id": "BiEl3n8_4XqK"
      },
      "source": [
        "df = pd.read_csv(r'https://api.covid19india.org/csv/latest/case_time_series.csv')"
      ],
      "execution_count": null,
      "outputs": []
    },
    {
      "cell_type": "code",
      "metadata": {
        "ExecuteTime": {
          "end_time": "2020-03-01T06:38:44.097749Z",
          "start_time": "2020-03-01T06:38:44.076805Z"
        },
        "id": "JQ2JCmvx4XqL",
        "colab": {
          "base_uri": "https://localhost:8080/",
          "height": 206
        },
        "outputId": "abdd1e47-4329-4287-99d6-aca69d821d89"
      },
      "source": [
        "df.head()"
      ],
      "execution_count": null,
      "outputs": [
        {
          "output_type": "execute_result",
          "data": {
            "text/html": [
              "<div>\n",
              "<style scoped>\n",
              "    .dataframe tbody tr th:only-of-type {\n",
              "        vertical-align: middle;\n",
              "    }\n",
              "\n",
              "    .dataframe tbody tr th {\n",
              "        vertical-align: top;\n",
              "    }\n",
              "\n",
              "    .dataframe thead th {\n",
              "        text-align: right;\n",
              "    }\n",
              "</style>\n",
              "<table border=\"1\" class=\"dataframe\">\n",
              "  <thead>\n",
              "    <tr style=\"text-align: right;\">\n",
              "      <th></th>\n",
              "      <th>Date</th>\n",
              "      <th>Date_YMD</th>\n",
              "      <th>Daily Confirmed</th>\n",
              "      <th>Total Confirmed</th>\n",
              "      <th>Daily Recovered</th>\n",
              "      <th>Total Recovered</th>\n",
              "      <th>Daily Deceased</th>\n",
              "      <th>Total Deceased</th>\n",
              "    </tr>\n",
              "  </thead>\n",
              "  <tbody>\n",
              "    <tr>\n",
              "      <th>0</th>\n",
              "      <td>30 January 2020</td>\n",
              "      <td>2020-01-30</td>\n",
              "      <td>1</td>\n",
              "      <td>1</td>\n",
              "      <td>0</td>\n",
              "      <td>0</td>\n",
              "      <td>0</td>\n",
              "      <td>0</td>\n",
              "    </tr>\n",
              "    <tr>\n",
              "      <th>1</th>\n",
              "      <td>31 January 2020</td>\n",
              "      <td>2020-01-31</td>\n",
              "      <td>0</td>\n",
              "      <td>1</td>\n",
              "      <td>0</td>\n",
              "      <td>0</td>\n",
              "      <td>0</td>\n",
              "      <td>0</td>\n",
              "    </tr>\n",
              "    <tr>\n",
              "      <th>2</th>\n",
              "      <td>1 February 2020</td>\n",
              "      <td>2020-02-01</td>\n",
              "      <td>0</td>\n",
              "      <td>1</td>\n",
              "      <td>0</td>\n",
              "      <td>0</td>\n",
              "      <td>0</td>\n",
              "      <td>0</td>\n",
              "    </tr>\n",
              "    <tr>\n",
              "      <th>3</th>\n",
              "      <td>2 February 2020</td>\n",
              "      <td>2020-02-02</td>\n",
              "      <td>1</td>\n",
              "      <td>2</td>\n",
              "      <td>0</td>\n",
              "      <td>0</td>\n",
              "      <td>0</td>\n",
              "      <td>0</td>\n",
              "    </tr>\n",
              "    <tr>\n",
              "      <th>4</th>\n",
              "      <td>3 February 2020</td>\n",
              "      <td>2020-02-03</td>\n",
              "      <td>1</td>\n",
              "      <td>3</td>\n",
              "      <td>0</td>\n",
              "      <td>0</td>\n",
              "      <td>0</td>\n",
              "      <td>0</td>\n",
              "    </tr>\n",
              "  </tbody>\n",
              "</table>\n",
              "</div>"
            ],
            "text/plain": [
              "              Date    Date_YMD  ...  Daily Deceased  Total Deceased\n",
              "0  30 January 2020  2020-01-30  ...               0               0\n",
              "1  31 January 2020  2020-01-31  ...               0               0\n",
              "2  1 February 2020  2020-02-01  ...               0               0\n",
              "3  2 February 2020  2020-02-02  ...               0               0\n",
              "4  3 February 2020  2020-02-03  ...               0               0\n",
              "\n",
              "[5 rows x 8 columns]"
            ]
          },
          "metadata": {
            "tags": []
          },
          "execution_count": 6
        }
      ]
    },
    {
      "cell_type": "code",
      "metadata": {
        "ExecuteTime": {
          "end_time": "2020-03-01T07:30:41.954341Z",
          "start_time": "2020-03-01T07:30:41.911458Z"
        },
        "id": "cM7KNO_z4XqP",
        "colab": {
          "base_uri": "https://localhost:8080/",
          "height": 300
        },
        "outputId": "0f72c6ec-5fc7-42ca-abfe-15d631de829f"
      },
      "source": [
        "df.describe()"
      ],
      "execution_count": null,
      "outputs": [
        {
          "output_type": "execute_result",
          "data": {
            "text/html": [
              "<div>\n",
              "<style scoped>\n",
              "    .dataframe tbody tr th:only-of-type {\n",
              "        vertical-align: middle;\n",
              "    }\n",
              "\n",
              "    .dataframe tbody tr th {\n",
              "        vertical-align: top;\n",
              "    }\n",
              "\n",
              "    .dataframe thead th {\n",
              "        text-align: right;\n",
              "    }\n",
              "</style>\n",
              "<table border=\"1\" class=\"dataframe\">\n",
              "  <thead>\n",
              "    <tr style=\"text-align: right;\">\n",
              "      <th></th>\n",
              "      <th>Daily Confirmed</th>\n",
              "      <th>Total Confirmed</th>\n",
              "      <th>Daily Recovered</th>\n",
              "      <th>Total Recovered</th>\n",
              "      <th>Daily Deceased</th>\n",
              "      <th>Total Deceased</th>\n",
              "    </tr>\n",
              "  </thead>\n",
              "  <tbody>\n",
              "    <tr>\n",
              "      <th>count</th>\n",
              "      <td>478.000000</td>\n",
              "      <td>4.780000e+02</td>\n",
              "      <td>478.000000</td>\n",
              "      <td>4.780000e+02</td>\n",
              "      <td>478.000000</td>\n",
              "      <td>478.000000</td>\n",
              "    </tr>\n",
              "    <tr>\n",
              "      <th>mean</th>\n",
              "      <td>54995.529289</td>\n",
              "      <td>6.294503e+06</td>\n",
              "      <td>48249.930962</td>\n",
              "      <td>5.657688e+06</td>\n",
              "      <td>617.089958</td>\n",
              "      <td>87415.654812</td>\n",
              "    </tr>\n",
              "    <tr>\n",
              "      <th>std</th>\n",
              "      <td>87250.607082</td>\n",
              "      <td>6.199014e+06</td>\n",
              "      <td>77991.369440</td>\n",
              "      <td>5.565253e+06</td>\n",
              "      <td>895.591405</td>\n",
              "      <td>75238.905902</td>\n",
              "    </tr>\n",
              "    <tr>\n",
              "      <th>min</th>\n",
              "      <td>0.000000</td>\n",
              "      <td>1.000000e+00</td>\n",
              "      <td>0.000000</td>\n",
              "      <td>0.000000e+00</td>\n",
              "      <td>0.000000</td>\n",
              "      <td>0.000000</td>\n",
              "    </tr>\n",
              "    <tr>\n",
              "      <th>25%</th>\n",
              "      <td>7371.250000</td>\n",
              "      <td>1.673925e+05</td>\n",
              "      <td>3812.250000</td>\n",
              "      <td>7.382975e+04</td>\n",
              "      <td>100.000000</td>\n",
              "      <td>4777.250000</td>\n",
              "    </tr>\n",
              "    <tr>\n",
              "      <th>50%</th>\n",
              "      <td>23662.000000</td>\n",
              "      <td>5.858972e+06</td>\n",
              "      <td>20573.000000</td>\n",
              "      <td>4.799650e+06</td>\n",
              "      <td>342.000000</td>\n",
              "      <td>92279.500000</td>\n",
              "    </tr>\n",
              "    <tr>\n",
              "      <th>75%</th>\n",
              "      <td>61675.500000</td>\n",
              "      <td>1.063689e+07</td>\n",
              "      <td>58095.750000</td>\n",
              "      <td>1.029560e+07</td>\n",
              "      <td>775.000000</td>\n",
              "      <td>152591.750000</td>\n",
              "    </tr>\n",
              "    <tr>\n",
              "      <th>max</th>\n",
              "      <td>414280.000000</td>\n",
              "      <td>2.628786e+07</td>\n",
              "      <td>422391.000000</td>\n",
              "      <td>2.306347e+07</td>\n",
              "      <td>4529.000000</td>\n",
              "      <td>294969.000000</td>\n",
              "    </tr>\n",
              "  </tbody>\n",
              "</table>\n",
              "</div>"
            ],
            "text/plain": [
              "       Daily Confirmed  Total Confirmed  ...  Daily Deceased  Total Deceased\n",
              "count       478.000000     4.780000e+02  ...      478.000000      478.000000\n",
              "mean      54995.529289     6.294503e+06  ...      617.089958    87415.654812\n",
              "std       87250.607082     6.199014e+06  ...      895.591405    75238.905902\n",
              "min           0.000000     1.000000e+00  ...        0.000000        0.000000\n",
              "25%        7371.250000     1.673925e+05  ...      100.000000     4777.250000\n",
              "50%       23662.000000     5.858972e+06  ...      342.000000    92279.500000\n",
              "75%       61675.500000     1.063689e+07  ...      775.000000   152591.750000\n",
              "max      414280.000000     2.628786e+07  ...     4529.000000   294969.000000\n",
              "\n",
              "[8 rows x 6 columns]"
            ]
          },
          "metadata": {
            "tags": []
          },
          "execution_count": 7
        }
      ]
    },
    {
      "cell_type": "code",
      "metadata": {
        "ExecuteTime": {
          "end_time": "2020-03-01T07:30:43.787439Z",
          "start_time": "2020-03-01T07:30:43.750533Z"
        },
        "id": "PRZp8Wf34XqQ",
        "colab": {
          "base_uri": "https://localhost:8080/",
          "height": 300
        },
        "outputId": "c192f898-65e8-4787-a875-cbd9a1e8328c"
      },
      "source": [
        "df.describe()"
      ],
      "execution_count": null,
      "outputs": [
        {
          "output_type": "execute_result",
          "data": {
            "text/html": [
              "<div>\n",
              "<style scoped>\n",
              "    .dataframe tbody tr th:only-of-type {\n",
              "        vertical-align: middle;\n",
              "    }\n",
              "\n",
              "    .dataframe tbody tr th {\n",
              "        vertical-align: top;\n",
              "    }\n",
              "\n",
              "    .dataframe thead th {\n",
              "        text-align: right;\n",
              "    }\n",
              "</style>\n",
              "<table border=\"1\" class=\"dataframe\">\n",
              "  <thead>\n",
              "    <tr style=\"text-align: right;\">\n",
              "      <th></th>\n",
              "      <th>Daily Confirmed</th>\n",
              "      <th>Total Confirmed</th>\n",
              "      <th>Daily Recovered</th>\n",
              "      <th>Total Recovered</th>\n",
              "      <th>Daily Deceased</th>\n",
              "      <th>Total Deceased</th>\n",
              "    </tr>\n",
              "  </thead>\n",
              "  <tbody>\n",
              "    <tr>\n",
              "      <th>count</th>\n",
              "      <td>478.000000</td>\n",
              "      <td>4.780000e+02</td>\n",
              "      <td>478.000000</td>\n",
              "      <td>4.780000e+02</td>\n",
              "      <td>478.000000</td>\n",
              "      <td>478.000000</td>\n",
              "    </tr>\n",
              "    <tr>\n",
              "      <th>mean</th>\n",
              "      <td>54995.529289</td>\n",
              "      <td>6.294503e+06</td>\n",
              "      <td>48249.930962</td>\n",
              "      <td>5.657688e+06</td>\n",
              "      <td>617.089958</td>\n",
              "      <td>87415.654812</td>\n",
              "    </tr>\n",
              "    <tr>\n",
              "      <th>std</th>\n",
              "      <td>87250.607082</td>\n",
              "      <td>6.199014e+06</td>\n",
              "      <td>77991.369440</td>\n",
              "      <td>5.565253e+06</td>\n",
              "      <td>895.591405</td>\n",
              "      <td>75238.905902</td>\n",
              "    </tr>\n",
              "    <tr>\n",
              "      <th>min</th>\n",
              "      <td>0.000000</td>\n",
              "      <td>1.000000e+00</td>\n",
              "      <td>0.000000</td>\n",
              "      <td>0.000000e+00</td>\n",
              "      <td>0.000000</td>\n",
              "      <td>0.000000</td>\n",
              "    </tr>\n",
              "    <tr>\n",
              "      <th>25%</th>\n",
              "      <td>7371.250000</td>\n",
              "      <td>1.673925e+05</td>\n",
              "      <td>3812.250000</td>\n",
              "      <td>7.382975e+04</td>\n",
              "      <td>100.000000</td>\n",
              "      <td>4777.250000</td>\n",
              "    </tr>\n",
              "    <tr>\n",
              "      <th>50%</th>\n",
              "      <td>23662.000000</td>\n",
              "      <td>5.858972e+06</td>\n",
              "      <td>20573.000000</td>\n",
              "      <td>4.799650e+06</td>\n",
              "      <td>342.000000</td>\n",
              "      <td>92279.500000</td>\n",
              "    </tr>\n",
              "    <tr>\n",
              "      <th>75%</th>\n",
              "      <td>61675.500000</td>\n",
              "      <td>1.063689e+07</td>\n",
              "      <td>58095.750000</td>\n",
              "      <td>1.029560e+07</td>\n",
              "      <td>775.000000</td>\n",
              "      <td>152591.750000</td>\n",
              "    </tr>\n",
              "    <tr>\n",
              "      <th>max</th>\n",
              "      <td>414280.000000</td>\n",
              "      <td>2.628786e+07</td>\n",
              "      <td>422391.000000</td>\n",
              "      <td>2.306347e+07</td>\n",
              "      <td>4529.000000</td>\n",
              "      <td>294969.000000</td>\n",
              "    </tr>\n",
              "  </tbody>\n",
              "</table>\n",
              "</div>"
            ],
            "text/plain": [
              "       Daily Confirmed  Total Confirmed  ...  Daily Deceased  Total Deceased\n",
              "count       478.000000     4.780000e+02  ...      478.000000      478.000000\n",
              "mean      54995.529289     6.294503e+06  ...      617.089958    87415.654812\n",
              "std       87250.607082     6.199014e+06  ...      895.591405    75238.905902\n",
              "min           0.000000     1.000000e+00  ...        0.000000        0.000000\n",
              "25%        7371.250000     1.673925e+05  ...      100.000000     4777.250000\n",
              "50%       23662.000000     5.858972e+06  ...      342.000000    92279.500000\n",
              "75%       61675.500000     1.063689e+07  ...      775.000000   152591.750000\n",
              "max      414280.000000     2.628786e+07  ...     4529.000000   294969.000000\n",
              "\n",
              "[8 rows x 6 columns]"
            ]
          },
          "metadata": {
            "tags": []
          },
          "execution_count": 8
        }
      ]
    },
    {
      "cell_type": "code",
      "metadata": {
        "colab": {
          "base_uri": "https://localhost:8080/"
        },
        "id": "vQP4V7FS54Tk",
        "outputId": "29005501-df4a-4ecd-ff44-e77e5bb193f7"
      },
      "source": [
        "len(df.index)"
      ],
      "execution_count": null,
      "outputs": [
        {
          "output_type": "execute_result",
          "data": {
            "text/plain": [
              "478"
            ]
          },
          "metadata": {
            "tags": []
          },
          "execution_count": 9
        }
      ]
    },
    {
      "cell_type": "markdown",
      "metadata": {
        "id": "J2FlP73efLWz"
      },
      "source": [
        "df.tail() This function returns last n rows from the object based on position."
      ]
    },
    {
      "cell_type": "code",
      "metadata": {
        "colab": {
          "base_uri": "https://localhost:8080/",
          "height": 363
        },
        "id": "ieEfdoKYeqKy",
        "outputId": "f2590868-3a1f-487d-a870-dc414ed3bfa9"
      },
      "source": [
        "df.tail(10)"
      ],
      "execution_count": null,
      "outputs": [
        {
          "output_type": "execute_result",
          "data": {
            "text/html": [
              "<div>\n",
              "<style scoped>\n",
              "    .dataframe tbody tr th:only-of-type {\n",
              "        vertical-align: middle;\n",
              "    }\n",
              "\n",
              "    .dataframe tbody tr th {\n",
              "        vertical-align: top;\n",
              "    }\n",
              "\n",
              "    .dataframe thead th {\n",
              "        text-align: right;\n",
              "    }\n",
              "</style>\n",
              "<table border=\"1\" class=\"dataframe\">\n",
              "  <thead>\n",
              "    <tr style=\"text-align: right;\">\n",
              "      <th></th>\n",
              "      <th>Date</th>\n",
              "      <th>Date_YMD</th>\n",
              "      <th>Daily Confirmed</th>\n",
              "      <th>Total Confirmed</th>\n",
              "      <th>Daily Recovered</th>\n",
              "      <th>Total Recovered</th>\n",
              "      <th>Daily Deceased</th>\n",
              "      <th>Total Deceased</th>\n",
              "    </tr>\n",
              "  </thead>\n",
              "  <tbody>\n",
              "    <tr>\n",
              "      <th>468</th>\n",
              "      <td>12 May 2021</td>\n",
              "      <td>2021-05-12</td>\n",
              "      <td>362632</td>\n",
              "      <td>23703007</td>\n",
              "      <td>352005</td>\n",
              "      <td>19728566</td>\n",
              "      <td>4128</td>\n",
              "      <td>257762</td>\n",
              "    </tr>\n",
              "    <tr>\n",
              "      <th>469</th>\n",
              "      <td>13 May 2021</td>\n",
              "      <td>2021-05-13</td>\n",
              "      <td>343005</td>\n",
              "      <td>24046012</td>\n",
              "      <td>344676</td>\n",
              "      <td>20073242</td>\n",
              "      <td>4000</td>\n",
              "      <td>261762</td>\n",
              "    </tr>\n",
              "    <tr>\n",
              "      <th>470</th>\n",
              "      <td>14 May 2021</td>\n",
              "      <td>2021-05-14</td>\n",
              "      <td>326256</td>\n",
              "      <td>24372268</td>\n",
              "      <td>353200</td>\n",
              "      <td>20426442</td>\n",
              "      <td>3889</td>\n",
              "      <td>265651</td>\n",
              "    </tr>\n",
              "    <tr>\n",
              "      <th>471</th>\n",
              "      <td>15 May 2021</td>\n",
              "      <td>2021-05-15</td>\n",
              "      <td>310757</td>\n",
              "      <td>24683025</td>\n",
              "      <td>362547</td>\n",
              "      <td>20788989</td>\n",
              "      <td>4077</td>\n",
              "      <td>269728</td>\n",
              "    </tr>\n",
              "    <tr>\n",
              "      <th>472</th>\n",
              "      <td>16 May 2021</td>\n",
              "      <td>2021-05-16</td>\n",
              "      <td>281837</td>\n",
              "      <td>24964862</td>\n",
              "      <td>378526</td>\n",
              "      <td>21167515</td>\n",
              "      <td>4098</td>\n",
              "      <td>273826</td>\n",
              "    </tr>\n",
              "    <tr>\n",
              "      <th>473</th>\n",
              "      <td>17 May 2021</td>\n",
              "      <td>2021-05-17</td>\n",
              "      <td>263021</td>\n",
              "      <td>25227883</td>\n",
              "      <td>422391</td>\n",
              "      <td>21589906</td>\n",
              "      <td>4334</td>\n",
              "      <td>278160</td>\n",
              "    </tr>\n",
              "    <tr>\n",
              "      <th>474</th>\n",
              "      <td>18 May 2021</td>\n",
              "      <td>2021-05-18</td>\n",
              "      <td>267246</td>\n",
              "      <td>25495129</td>\n",
              "      <td>389758</td>\n",
              "      <td>21979664</td>\n",
              "      <td>4529</td>\n",
              "      <td>282689</td>\n",
              "    </tr>\n",
              "    <tr>\n",
              "      <th>475</th>\n",
              "      <td>19 May 2021</td>\n",
              "      <td>2021-05-19</td>\n",
              "      <td>276193</td>\n",
              "      <td>25771322</td>\n",
              "      <td>369005</td>\n",
              "      <td>22348669</td>\n",
              "      <td>3877</td>\n",
              "      <td>286566</td>\n",
              "    </tr>\n",
              "    <tr>\n",
              "      <th>476</th>\n",
              "      <td>20 May 2021</td>\n",
              "      <td>2021-05-20</td>\n",
              "      <td>259242</td>\n",
              "      <td>26030564</td>\n",
              "      <td>357173</td>\n",
              "      <td>22705842</td>\n",
              "      <td>4209</td>\n",
              "      <td>290775</td>\n",
              "    </tr>\n",
              "    <tr>\n",
              "      <th>477</th>\n",
              "      <td>21 May 2021</td>\n",
              "      <td>2021-05-21</td>\n",
              "      <td>257299</td>\n",
              "      <td>26287863</td>\n",
              "      <td>357625</td>\n",
              "      <td>23063467</td>\n",
              "      <td>4194</td>\n",
              "      <td>294969</td>\n",
              "    </tr>\n",
              "  </tbody>\n",
              "</table>\n",
              "</div>"
            ],
            "text/plain": [
              "            Date    Date_YMD  ...  Daily Deceased  Total Deceased\n",
              "468  12 May 2021  2021-05-12  ...            4128          257762\n",
              "469  13 May 2021  2021-05-13  ...            4000          261762\n",
              "470  14 May 2021  2021-05-14  ...            3889          265651\n",
              "471  15 May 2021  2021-05-15  ...            4077          269728\n",
              "472  16 May 2021  2021-05-16  ...            4098          273826\n",
              "473  17 May 2021  2021-05-17  ...            4334          278160\n",
              "474  18 May 2021  2021-05-18  ...            4529          282689\n",
              "475  19 May 2021  2021-05-19  ...            3877          286566\n",
              "476  20 May 2021  2021-05-20  ...            4209          290775\n",
              "477  21 May 2021  2021-05-21  ...            4194          294969\n",
              "\n",
              "[10 rows x 8 columns]"
            ]
          },
          "metadata": {
            "tags": []
          },
          "execution_count": 10
        }
      ]
    },
    {
      "cell_type": "code",
      "metadata": {
        "ExecuteTime": {
          "end_time": "2020-03-01T07:30:49.484191Z",
          "start_time": "2020-03-01T07:30:49.474217Z"
        },
        "id": "n__bsejI4XqT"
      },
      "source": [
        "validate = df['Daily Confirmed'].tail(10)\n",
        "df.drop(df['Daily Confirmed'].tail(10).index,inplace=True)\n",
        "df['Date_YMD'] =  pd.to_datetime(df['Date_YMD'])"
      ],
      "execution_count": null,
      "outputs": []
    },
    {
      "cell_type": "code",
      "metadata": {
        "ExecuteTime": {
          "end_time": "2020-03-01T07:30:53.856492Z",
          "start_time": "2020-03-01T07:30:53.846519Z"
        },
        "id": "q8ePrkRu4XqT",
        "colab": {
          "base_uri": "https://localhost:8080/"
        },
        "outputId": "cf9294d1-bbc3-4bc3-f285-2dcf87c10da2"
      },
      "source": [
        "uni_data = df['Daily Confirmed']\n",
        "uni_data.index = df['Date_YMD']\n",
        "uni_data.head()"
      ],
      "execution_count": null,
      "outputs": [
        {
          "output_type": "execute_result",
          "data": {
            "text/plain": [
              "Date_YMD\n",
              "2020-01-30    1\n",
              "2020-01-31    0\n",
              "2020-02-01    0\n",
              "2020-02-02    1\n",
              "2020-02-03    1\n",
              "Name: Daily Confirmed, dtype: int64"
            ]
          },
          "metadata": {
            "tags": []
          },
          "execution_count": 12
        }
      ]
    },
    {
      "cell_type": "code",
      "metadata": {
        "ExecuteTime": {
          "end_time": "2020-03-01T07:30:55.814294Z",
          "start_time": "2020-03-01T07:30:55.809264Z"
        },
        "id": "RJzx-h0h4XqV"
      },
      "source": [
        "uni_data = uni_data.values\n",
        "scaler_x = preprocessing.MinMaxScaler()\n",
        "x_rescaled = scaler_x.fit_transform(uni_data.reshape(-1, 1))"
      ],
      "execution_count": null,
      "outputs": []
    },
    {
      "cell_type": "code",
      "metadata": {
        "ExecuteTime": {
          "end_time": "2020-03-01T07:30:56.472493Z",
          "start_time": "2020-03-01T07:30:56.465511Z"
        },
        "id": "yfUE5pWY4XqW"
      },
      "source": [
        "def custom_ts_univariate_data_prep(dataset, start, end, window, horizon):\n",
        "  X = []\n",
        "  y = []\n",
        "\n",
        "  start = start + window\n",
        "  if end is None:\n",
        "    end = len(dataset) - horizon\n",
        "\n",
        "  for i in range(start, end):\n",
        "    indicesx = range(i-window, i)\n",
        "    X.append(np.reshape(dataset[indicesx], (window, 1)))\n",
        "    indicesy = range(i,i+horizon)\n",
        "    y.append(dataset[indicesy])\n",
        "  return np.array(X), np.array(y)"
      ],
      "execution_count": null,
      "outputs": []
    },
    {
      "cell_type": "code",
      "metadata": {
        "ExecuteTime": {
          "end_time": "2020-03-01T07:31:05.749666Z",
          "start_time": "2020-03-01T07:31:04.549878Z"
        },
        "id": "HTk9f-9p4XqX"
      },
      "source": [
        "univar_hist_window = 10\n",
        "horizon = 10\n",
        "TRAIN_SPLIT = 300\n",
        "x_train_uni, y_train_uni = custom_ts_univariate_data_prep(x_rescaled, 0, TRAIN_SPLIT,univar_hist_window, horizon)\n",
        "x_val_uni, y_val_uni = custom_ts_univariate_data_prep(x_rescaled, TRAIN_SPLIT, None,univar_hist_window,horizon)"
      ],
      "execution_count": null,
      "outputs": []
    },
    {
      "cell_type": "code",
      "metadata": {
        "ExecuteTime": {
          "end_time": "2020-03-01T07:31:06.586428Z",
          "start_time": "2020-03-01T07:31:06.574459Z"
        },
        "id": "lMcJw7EJ4XqZ",
        "colab": {
          "base_uri": "https://localhost:8080/"
        },
        "outputId": "5f30b30f-0032-4e31-fb72-c2154e841dc3"
      },
      "source": [
        "print ('Single window of past history')\n",
        "print (x_train_uni[0])\n",
        "print ('\\n Target horizon')\n",
        "print (y_train_uni[0])"
      ],
      "execution_count": null,
      "outputs": [
        {
          "output_type": "stream",
          "text": [
            "Single window of past history\n",
            "[[2.4138264e-06]\n",
            " [0.0000000e+00]\n",
            " [0.0000000e+00]\n",
            " [2.4138264e-06]\n",
            " [2.4138264e-06]\n",
            " [0.0000000e+00]\n",
            " [0.0000000e+00]\n",
            " [0.0000000e+00]\n",
            " [0.0000000e+00]\n",
            " [0.0000000e+00]]\n",
            "\n",
            " Target horizon\n",
            "[[0.]\n",
            " [0.]\n",
            " [0.]\n",
            " [0.]\n",
            " [0.]\n",
            " [0.]\n",
            " [0.]\n",
            " [0.]\n",
            " [0.]\n",
            " [0.]]\n"
          ],
          "name": "stdout"
        }
      ]
    },
    {
      "cell_type": "code",
      "metadata": {
        "ExecuteTime": {
          "end_time": "2020-03-01T07:31:19.262509Z",
          "start_time": "2020-03-01T07:31:18.113585Z"
        },
        "id": "zXu-UqaP4Xqa"
      },
      "source": [
        "BATCH_SIZE = 25\n",
        "BUFFER_SIZE = 150\n",
        "\n",
        "train_univariate = tf.data.Dataset.from_tensor_slices((x_train_uni, y_train_uni))\n",
        "train_univariate = train_univariate.cache().shuffle(BUFFER_SIZE).batch(BATCH_SIZE).repeat()\n",
        "\n",
        "val_univariate = tf.data.Dataset.from_tensor_slices((x_val_uni, y_val_uni))\n",
        "val_univariate = val_univariate.batch(BATCH_SIZE).repeat()"
      ],
      "execution_count": null,
      "outputs": []
    },
    {
      "cell_type": "code",
      "metadata": {
        "ExecuteTime": {
          "end_time": "2020-03-01T07:31:28.701255Z",
          "start_time": "2020-03-01T07:31:28.569609Z"
        },
        "id": "-Xnb7b2h4Xqb"
      },
      "source": [
        "model = Sequential()\n",
        "model.add(Conv1D(filters=64, kernel_size=3, activation='relu', input_shape=(x_train_uni.shape[1], x_train_uni.shape[2])))\n",
        "model.add(MaxPool1D(pool_size=2))\n",
        "model.add(Dropout(0.2))\n",
        "model.add(Flatten())\n",
        "model.add(Dense(30, activation='relu'))\n",
        "model.add(Dropout(0.2))\n",
        "model.add(Dense(horizon))\n",
        "model.compile(optimizer='adam', loss='mse')"
      ],
      "execution_count": null,
      "outputs": []
    },
    {
      "cell_type": "code",
      "metadata": {
        "ExecuteTime": {
          "end_time": "2020-03-01T07:31:44.216777Z",
          "start_time": "2020-03-01T07:31:44.213749Z"
        },
        "id": "yf-kBn8w4Xqc"
      },
      "source": [
        "model_path = r'CNN_Univarient_1.h5'"
      ],
      "execution_count": null,
      "outputs": []
    },
    {
      "cell_type": "code",
      "metadata": {
        "ExecuteTime": {
          "end_time": "2020-03-01T07:32:41.978185Z",
          "start_time": "2020-03-01T07:31:52.497582Z"
        },
        "scrolled": true,
        "id": "b5W3k7zP4Xqc",
        "colab": {
          "base_uri": "https://localhost:8080/"
        },
        "outputId": "c11b5568-42fd-49b9-f26a-dafb4f62696c"
      },
      "source": [
        "EVALUATION_INTERVAL = 50\n",
        "EPOCHS = 150\n",
        "history = model.fit(train_univariate, epochs=EPOCHS,steps_per_epoch=EVALUATION_INTERVAL,validation_data=val_univariate, validation_steps=50,verbose =1,\n",
        "                              callbacks =[tf.keras.callbacks.EarlyStopping(monitor='val_loss', min_delta=0, patience=10, verbose=1, mode='min'),tf.keras.callbacks.ModelCheckpoint(model_path,monitor='val_loss', save_best_only=True, mode='min', verbose=0)])"
      ],
      "execution_count": null,
      "outputs": [
        {
          "output_type": "stream",
          "text": [
            "Epoch 1/150\n",
            "50/50 [==============================] - 1s 9ms/step - loss: 0.0055 - val_loss: 0.0295\n",
            "Epoch 2/150\n",
            "50/50 [==============================] - 0s 3ms/step - loss: 0.0016 - val_loss: 0.0237\n",
            "Epoch 3/150\n",
            "50/50 [==============================] - 0s 3ms/step - loss: 0.0013 - val_loss: 0.0264\n",
            "Epoch 4/150\n",
            "50/50 [==============================] - 0s 3ms/step - loss: 0.0012 - val_loss: 0.0240\n",
            "Epoch 5/150\n",
            "50/50 [==============================] - 0s 3ms/step - loss: 9.5409e-04 - val_loss: 0.0245\n",
            "Epoch 6/150\n",
            "50/50 [==============================] - 0s 3ms/step - loss: 8.6650e-04 - val_loss: 0.0269\n",
            "Epoch 7/150\n",
            "50/50 [==============================] - 0s 3ms/step - loss: 7.7976e-04 - val_loss: 0.0232\n",
            "Epoch 8/150\n",
            "50/50 [==============================] - 0s 3ms/step - loss: 7.3406e-04 - val_loss: 0.0210\n",
            "Epoch 9/150\n",
            "50/50 [==============================] - 0s 3ms/step - loss: 7.0732e-04 - val_loss: 0.0219\n",
            "Epoch 10/150\n",
            "50/50 [==============================] - 0s 3ms/step - loss: 6.9962e-04 - val_loss: 0.0211\n",
            "Epoch 11/150\n",
            "50/50 [==============================] - 0s 3ms/step - loss: 6.9571e-04 - val_loss: 0.0193\n",
            "Epoch 12/150\n",
            "50/50 [==============================] - 0s 3ms/step - loss: 5.3321e-04 - val_loss: 0.0194\n",
            "Epoch 13/150\n",
            "50/50 [==============================] - 0s 3ms/step - loss: 5.8625e-04 - val_loss: 0.0192\n",
            "Epoch 14/150\n",
            "50/50 [==============================] - 0s 3ms/step - loss: 5.3756e-04 - val_loss: 0.0185\n",
            "Epoch 15/150\n",
            "50/50 [==============================] - 0s 3ms/step - loss: 5.6042e-04 - val_loss: 0.0168\n",
            "Epoch 16/150\n",
            "50/50 [==============================] - 0s 3ms/step - loss: 5.6823e-04 - val_loss: 0.0147\n",
            "Epoch 17/150\n",
            "50/50 [==============================] - 0s 3ms/step - loss: 5.3364e-04 - val_loss: 0.0156\n",
            "Epoch 18/150\n",
            "50/50 [==============================] - 0s 3ms/step - loss: 4.9822e-04 - val_loss: 0.0170\n",
            "Epoch 19/150\n",
            "50/50 [==============================] - 0s 3ms/step - loss: 4.9956e-04 - val_loss: 0.0148\n",
            "Epoch 20/150\n",
            "50/50 [==============================] - 0s 3ms/step - loss: 4.8838e-04 - val_loss: 0.0152\n",
            "Epoch 21/150\n",
            "50/50 [==============================] - 0s 3ms/step - loss: 4.4955e-04 - val_loss: 0.0149\n",
            "Epoch 22/150\n",
            "50/50 [==============================] - 0s 3ms/step - loss: 4.7616e-04 - val_loss: 0.0113\n",
            "Epoch 23/150\n",
            "50/50 [==============================] - 0s 3ms/step - loss: 4.4896e-04 - val_loss: 0.0124\n",
            "Epoch 24/150\n",
            "50/50 [==============================] - 0s 3ms/step - loss: 4.5779e-04 - val_loss: 0.0108\n",
            "Epoch 25/150\n",
            "50/50 [==============================] - 0s 3ms/step - loss: 4.1621e-04 - val_loss: 0.0125\n",
            "Epoch 26/150\n",
            "50/50 [==============================] - 0s 3ms/step - loss: 4.4672e-04 - val_loss: 0.0105\n",
            "Epoch 27/150\n",
            "50/50 [==============================] - 0s 3ms/step - loss: 4.5558e-04 - val_loss: 0.0136\n",
            "Epoch 28/150\n",
            "50/50 [==============================] - 0s 3ms/step - loss: 4.2719e-04 - val_loss: 0.0098\n",
            "Epoch 29/150\n",
            "50/50 [==============================] - 0s 3ms/step - loss: 4.6678e-04 - val_loss: 0.0110\n",
            "Epoch 30/150\n",
            "50/50 [==============================] - 0s 3ms/step - loss: 4.7225e-04 - val_loss: 0.0121\n",
            "Epoch 31/150\n",
            "50/50 [==============================] - 0s 3ms/step - loss: 4.3060e-04 - val_loss: 0.0115\n",
            "Epoch 32/150\n",
            "50/50 [==============================] - 0s 3ms/step - loss: 4.6972e-04 - val_loss: 0.0121\n",
            "Epoch 33/150\n",
            "50/50 [==============================] - 0s 3ms/step - loss: 4.1865e-04 - val_loss: 0.0099\n",
            "Epoch 34/150\n",
            "50/50 [==============================] - 0s 3ms/step - loss: 4.3307e-04 - val_loss: 0.0094\n",
            "Epoch 35/150\n",
            "50/50 [==============================] - 0s 3ms/step - loss: 4.3059e-04 - val_loss: 0.0101\n",
            "Epoch 36/150\n",
            "50/50 [==============================] - 0s 3ms/step - loss: 4.1323e-04 - val_loss: 0.0095\n",
            "Epoch 37/150\n",
            "50/50 [==============================] - 0s 3ms/step - loss: 3.9714e-04 - val_loss: 0.0117\n",
            "Epoch 38/150\n",
            "50/50 [==============================] - 0s 3ms/step - loss: 4.6718e-04 - val_loss: 0.0124\n",
            "Epoch 39/150\n",
            "50/50 [==============================] - 0s 3ms/step - loss: 4.2474e-04 - val_loss: 0.0105\n",
            "Epoch 40/150\n",
            "50/50 [==============================] - 0s 3ms/step - loss: 4.3700e-04 - val_loss: 0.0089\n",
            "Epoch 41/150\n",
            "50/50 [==============================] - 0s 3ms/step - loss: 3.6461e-04 - val_loss: 0.0098\n",
            "Epoch 42/150\n",
            "50/50 [==============================] - 0s 3ms/step - loss: 3.7169e-04 - val_loss: 0.0101\n",
            "Epoch 43/150\n",
            "50/50 [==============================] - 0s 3ms/step - loss: 3.6416e-04 - val_loss: 0.0085\n",
            "Epoch 44/150\n",
            "50/50 [==============================] - 0s 3ms/step - loss: 4.6982e-04 - val_loss: 0.0097\n",
            "Epoch 45/150\n",
            "50/50 [==============================] - 0s 3ms/step - loss: 3.7885e-04 - val_loss: 0.0090\n",
            "Epoch 46/150\n",
            "50/50 [==============================] - 0s 3ms/step - loss: 4.2613e-04 - val_loss: 0.0084\n",
            "Epoch 47/150\n",
            "50/50 [==============================] - 0s 3ms/step - loss: 4.5387e-04 - val_loss: 0.0102\n",
            "Epoch 48/150\n",
            "50/50 [==============================] - 0s 3ms/step - loss: 4.2029e-04 - val_loss: 0.0088\n",
            "Epoch 49/150\n",
            "50/50 [==============================] - 0s 3ms/step - loss: 4.4116e-04 - val_loss: 0.0084\n",
            "Epoch 50/150\n",
            "50/50 [==============================] - 0s 3ms/step - loss: 4.1800e-04 - val_loss: 0.0086\n",
            "Epoch 51/150\n",
            "50/50 [==============================] - 0s 3ms/step - loss: 4.2212e-04 - val_loss: 0.0080\n",
            "Epoch 52/150\n",
            "50/50 [==============================] - 0s 3ms/step - loss: 3.8747e-04 - val_loss: 0.0086\n",
            "Epoch 53/150\n",
            "50/50 [==============================] - 0s 3ms/step - loss: 4.4365e-04 - val_loss: 0.0081\n",
            "Epoch 54/150\n",
            "50/50 [==============================] - 0s 3ms/step - loss: 3.9916e-04 - val_loss: 0.0080\n",
            "Epoch 55/150\n",
            "50/50 [==============================] - 0s 3ms/step - loss: 4.0416e-04 - val_loss: 0.0095\n",
            "Epoch 56/150\n",
            "50/50 [==============================] - 0s 3ms/step - loss: 4.5212e-04 - val_loss: 0.0102\n",
            "Epoch 57/150\n",
            "50/50 [==============================] - 0s 3ms/step - loss: 4.1546e-04 - val_loss: 0.0086\n",
            "Epoch 58/150\n",
            "50/50 [==============================] - 0s 3ms/step - loss: 4.0912e-04 - val_loss: 0.0088\n",
            "Epoch 59/150\n",
            "50/50 [==============================] - 0s 3ms/step - loss: 3.8153e-04 - val_loss: 0.0082\n",
            "Epoch 60/150\n",
            "50/50 [==============================] - 0s 3ms/step - loss: 3.6927e-04 - val_loss: 0.0074\n",
            "Epoch 61/150\n",
            "50/50 [==============================] - 0s 3ms/step - loss: 3.5528e-04 - val_loss: 0.0094\n",
            "Epoch 62/150\n",
            "50/50 [==============================] - 0s 3ms/step - loss: 4.5459e-04 - val_loss: 0.0085\n",
            "Epoch 63/150\n",
            "50/50 [==============================] - 0s 3ms/step - loss: 4.4777e-04 - val_loss: 0.0087\n",
            "Epoch 64/150\n",
            "50/50 [==============================] - 0s 3ms/step - loss: 3.9515e-04 - val_loss: 0.0083\n",
            "Epoch 65/150\n",
            "50/50 [==============================] - 0s 3ms/step - loss: 3.8380e-04 - val_loss: 0.0088\n",
            "Epoch 66/150\n",
            "50/50 [==============================] - 0s 3ms/step - loss: 3.7168e-04 - val_loss: 0.0092\n",
            "Epoch 67/150\n",
            "50/50 [==============================] - 0s 2ms/step - loss: 3.6519e-04 - val_loss: 0.0084\n",
            "Epoch 68/150\n",
            "50/50 [==============================] - 0s 3ms/step - loss: 4.0502e-04 - val_loss: 0.0094\n",
            "Epoch 69/150\n",
            "50/50 [==============================] - 0s 3ms/step - loss: 4.1944e-04 - val_loss: 0.0061\n",
            "Epoch 70/150\n",
            "50/50 [==============================] - 0s 3ms/step - loss: 4.0142e-04 - val_loss: 0.0072\n",
            "Epoch 71/150\n",
            "50/50 [==============================] - 0s 3ms/step - loss: 3.8506e-04 - val_loss: 0.0062\n",
            "Epoch 72/150\n",
            "50/50 [==============================] - 0s 3ms/step - loss: 4.5011e-04 - val_loss: 0.0093\n",
            "Epoch 73/150\n",
            "50/50 [==============================] - 0s 3ms/step - loss: 3.5442e-04 - val_loss: 0.0084\n",
            "Epoch 74/150\n",
            "50/50 [==============================] - 0s 3ms/step - loss: 4.0633e-04 - val_loss: 0.0074\n",
            "Epoch 75/150\n",
            "50/50 [==============================] - 0s 3ms/step - loss: 4.0388e-04 - val_loss: 0.0082\n",
            "Epoch 76/150\n",
            "50/50 [==============================] - 0s 3ms/step - loss: 3.6261e-04 - val_loss: 0.0062\n",
            "Epoch 77/150\n",
            "50/50 [==============================] - 0s 3ms/step - loss: 3.8470e-04 - val_loss: 0.0102\n",
            "Epoch 78/150\n",
            "38/50 [=====================>........] - ETA: 0s - loss: 4.2354e-04"
          ],
          "name": "stdout"
        }
      ]
    },
    {
      "cell_type": "code",
      "metadata": {
        "ExecuteTime": {
          "end_time": "2020-03-01T07:33:13.528762Z",
          "start_time": "2020-03-01T07:33:12.943332Z"
        },
        "id": "iaWHTZ4b4Xqc"
      },
      "source": [
        "# Recreate the exact same model, including its weights and the optimizer\n",
        "Trained_model = tf.keras.models.load_model(model_path)"
      ],
      "execution_count": null,
      "outputs": []
    },
    {
      "cell_type": "code",
      "metadata": {
        "ExecuteTime": {
          "end_time": "2020-03-01T07:33:15.897425Z",
          "start_time": "2020-03-01T07:33:15.889447Z"
        },
        "id": "y1IJRJNb4Xqe"
      },
      "source": [
        "# Show the model architecture\n",
        "Trained_model.summary()"
      ],
      "execution_count": null,
      "outputs": []
    },
    {
      "cell_type": "code",
      "metadata": {
        "ExecuteTime": {
          "end_time": "2020-03-01T07:33:19.686287Z",
          "start_time": "2020-03-01T07:33:19.428978Z"
        },
        "id": "sx_6Y_UN4Xqe"
      },
      "source": [
        "plt.plot(history.history['loss'])\n",
        "plt.plot(history.history['val_loss'])\n",
        "plt.title('Model loss')\n",
        "plt.ylabel('loss')\n",
        "plt.xlabel('epoch')\n",
        "plt.legend(['train loss', 'validation loss'], loc='upper left')\n",
        "plt.rcParams[\"figure.figsize\"] = [16,9]\n",
        "plt.show()"
      ],
      "execution_count": null,
      "outputs": []
    },
    {
      "cell_type": "code",
      "metadata": {
        "ExecuteTime": {
          "end_time": "2020-03-01T07:33:21.545313Z",
          "start_time": "2020-03-01T07:33:21.540328Z"
        },
        "id": "jVEamt_e4Xqf"
      },
      "source": [
        "uni = df['Daily Confirmed']\n",
        "validatehori = uni.tail(10)"
      ],
      "execution_count": null,
      "outputs": []
    },
    {
      "cell_type": "code",
      "metadata": {
        "ExecuteTime": {
          "end_time": "2020-03-01T07:33:22.995433Z",
          "start_time": "2020-03-01T07:33:22.990445Z"
        },
        "id": "cuOIpprp4Xqf"
      },
      "source": [
        "validatehist = validatehori.values\n",
        "scaler_val = preprocessing.MinMaxScaler()\n",
        "val_rescaled = scaler_x.fit_transform(validatehist.reshape(-1, 1))"
      ],
      "execution_count": null,
      "outputs": []
    },
    {
      "cell_type": "code",
      "metadata": {
        "ExecuteTime": {
          "end_time": "2020-03-01T07:33:24.819589Z",
          "start_time": "2020-03-01T07:33:24.815563Z"
        },
        "id": "PRBPXahu4Xqg"
      },
      "source": [
        "val_rescaled = val_rescaled.reshape((1, val_rescaled.shape[0], 1))"
      ],
      "execution_count": null,
      "outputs": []
    },
    {
      "cell_type": "code",
      "metadata": {
        "ExecuteTime": {
          "end_time": "2020-03-01T07:33:26.154977Z",
          "start_time": "2020-03-01T07:33:26.041284Z"
        },
        "id": "OsLeT9vB4Xqg"
      },
      "source": [
        "Predicted_results = Trained_model.predict(val_rescaled)"
      ],
      "execution_count": null,
      "outputs": []
    },
    {
      "cell_type": "code",
      "metadata": {
        "ExecuteTime": {
          "end_time": "2020-03-01T07:33:27.996052Z",
          "start_time": "2020-03-01T07:33:27.990068Z"
        },
        "id": "f1Vf3hEG4Xqg"
      },
      "source": [
        "Predicted_results"
      ],
      "execution_count": null,
      "outputs": []
    },
    {
      "cell_type": "code",
      "metadata": {
        "ExecuteTime": {
          "end_time": "2020-03-01T07:33:33.252986Z",
          "start_time": "2020-03-01T07:33:33.248998Z"
        },
        "id": "LG1DyQhL4Xqh"
      },
      "source": [
        "Predicted_inver_res = scaler_x.inverse_transform(Predicted_results)"
      ],
      "execution_count": null,
      "outputs": []
    },
    {
      "cell_type": "code",
      "metadata": {
        "ExecuteTime": {
          "end_time": "2020-03-01T07:33:34.180505Z",
          "start_time": "2020-03-01T07:33:34.173525Z"
        },
        "id": "hZ7yCuOJ4Xqh"
      },
      "source": [
        "Predicted_inver_res"
      ],
      "execution_count": null,
      "outputs": []
    },
    {
      "cell_type": "code",
      "metadata": {
        "ExecuteTime": {
          "end_time": "2020-03-01T07:33:41.025191Z",
          "start_time": "2020-03-01T07:33:40.989287Z"
        },
        "id": "ol0BSzOR4Xqi"
      },
      "source": [
        "from sklearn import metrics\n",
        "def timeseries_evaluation_metrics_func(y_true, y_pred):\n",
        "    \n",
        "    def mean_absolute_percentage_error(y_true, y_pred): \n",
        "        y_true, y_pred = np.array(y_true), np.array(y_pred)\n",
        "        return np.mean(np.abs((y_true - y_pred) / y_true)) * 100\n",
        "    print('Evaluation metric results:-')\n",
        "    print(f'MSE is : {metrics.mean_squared_error(y_true, y_pred)}')\n",
        "    print(f'MAE is : {metrics.mean_absolute_error(y_true, y_pred)}')\n",
        "    print(f'RMSE is : {np.sqrt(metrics.mean_squared_error(y_true, y_pred))}')\n",
        "    print(f'MAPE is : {mean_absolute_percentage_error(y_true, y_pred)}')\n",
        "    print(f'R2 is : {metrics.r2_score(y_true, y_pred)}',end='\\n\\n')"
      ],
      "execution_count": null,
      "outputs": []
    },
    {
      "cell_type": "code",
      "metadata": {
        "ExecuteTime": {
          "end_time": "2020-03-01T07:33:43.836666Z",
          "start_time": "2020-03-01T07:33:43.828688Z"
        },
        "id": "0SlloOEL4Xqi"
      },
      "source": [
        "timeseries_evaluation_metrics_func(validate,Predicted_inver_res[0])"
      ],
      "execution_count": null,
      "outputs": []
    },
    {
      "cell_type": "code",
      "metadata": {
        "ExecuteTime": {
          "end_time": "2020-03-01T07:33:47.330318Z",
          "start_time": "2020-03-01T07:33:47.089961Z"
        },
        "id": "K5yDKPCM4Xqj"
      },
      "source": [
        "plt.plot( list(validate))\n",
        "plt.plot( list(Predicted_inver_res[0]))\n",
        "plt.title(\"Actual vs Predicted\")\n",
        "plt.ylabel(\"Traffic volume\")\n",
        "plt.legend(('Actual','predicted'))\n",
        "plt.show()"
      ],
      "execution_count": null,
      "outputs": []
    },
    {
      "cell_type": "code",
      "metadata": {
        "id": "y9QL8vt24Xqj"
      },
      "source": [
        ""
      ],
      "execution_count": null,
      "outputs": []
    }
  ]
}