{
  "nbformat": 4,
  "nbformat_minor": 0,
  "metadata": {
    "kernelspec": {
      "display_name": "Python 3",
      "language": "python",
      "name": "python3"
    },
    "language_info": {
      "codemirror_mode": {
        "name": "ipython",
        "version": 3
      },
      "file_extension": ".py",
      "mimetype": "text/x-python",
      "name": "python",
      "nbconvert_exporter": "python",
      "pygments_lexer": "ipython3",
      "version": "3.7.3"
    },
    "latex_envs": {
      "LaTeX_envs_menu_present": true,
      "autoclose": false,
      "autocomplete": true,
      "bibliofile": "biblio.bib",
      "cite_by": "apalike",
      "current_citInitial": 1,
      "eqLabelWithNumbers": true,
      "eqNumInitial": 1,
      "hotkeys": {
        "equation": "Ctrl-E",
        "itemize": "Ctrl-I"
      },
      "labels_anchors": false,
      "latex_user_defs": false,
      "report_style_numbering": false,
      "user_envs_cfg": false
    },
    "nbTranslate": {
      "displayLangs": [
        "*"
      ],
      "hotkey": "alt-t",
      "langInMainMenu": true,
      "sourceLang": "en",
      "targetLang": "fr",
      "useGoogleTranslate": true
    },
    "colab": {
      "name": "Copy of LSTM.ipynb",
      "provenance": [],
      "collapsed_sections": [],
      "include_colab_link": true
    },
    "accelerator": "GPU"
  },
  "cells": [
    {
      "cell_type": "markdown",
      "metadata": {
        "id": "view-in-github",
        "colab_type": "text"
      },
      "source": [
        "<a href=\"https://colab.research.google.com/github/hitesha14/Rising2021_Timeseries/blob/main/Copy_of_LSTM.ipynb\" target=\"_parent\"><img src=\"https://colab.research.google.com/assets/colab-badge.svg\" alt=\"Open In Colab\"/></a>"
      ]
    },
    {
      "cell_type": "code",
      "metadata": {
        "ExecuteTime": {
          "end_time": "2020-03-01T07:13:43.526358Z",
          "start_time": "2020-03-01T07:13:38.674307Z"
        },
        "id": "_7xrkPHZD7U6"
      },
      "source": [
        "import pandas as pd\n",
        "import numpy as np\n",
        "import tensorflow as tf\n",
        "from sklearn import preprocessing\n",
        "import matplotlib.pyplot as plt\n",
        "tf.random.set_seed(123)\n",
        "np.random.seed(123)"
      ],
      "execution_count": null,
      "outputs": []
    },
    {
      "cell_type": "code",
      "metadata": {
        "ExecuteTime": {
          "end_time": "2020-03-01T07:13:43.612094Z",
          "start_time": "2020-03-01T07:13:43.528352Z"
        },
        "id": "wdy8U6snD7VF"
      },
      "source": [
        "df = pd.read_csv(r'https://api.covid19india.org/csv/latest/case_time_series.csv')"
      ],
      "execution_count": null,
      "outputs": []
    },
    {
      "cell_type": "code",
      "metadata": {
        "ExecuteTime": {
          "end_time": "2020-03-01T07:13:44.262354Z",
          "start_time": "2020-03-01T07:13:44.244400Z"
        },
        "id": "ZoFrERi1D7VH",
        "colab": {
          "base_uri": "https://localhost:8080/",
          "height": 206
        },
        "outputId": "93346ac9-9122-4e06-9f35-eececfba4098"
      },
      "source": [
        "df.head()"
      ],
      "execution_count": null,
      "outputs": [
        {
          "output_type": "execute_result",
          "data": {
            "text/html": [
              "<div>\n",
              "<style scoped>\n",
              "    .dataframe tbody tr th:only-of-type {\n",
              "        vertical-align: middle;\n",
              "    }\n",
              "\n",
              "    .dataframe tbody tr th {\n",
              "        vertical-align: top;\n",
              "    }\n",
              "\n",
              "    .dataframe thead th {\n",
              "        text-align: right;\n",
              "    }\n",
              "</style>\n",
              "<table border=\"1\" class=\"dataframe\">\n",
              "  <thead>\n",
              "    <tr style=\"text-align: right;\">\n",
              "      <th></th>\n",
              "      <th>Date</th>\n",
              "      <th>Date_YMD</th>\n",
              "      <th>Daily Confirmed</th>\n",
              "      <th>Total Confirmed</th>\n",
              "      <th>Daily Recovered</th>\n",
              "      <th>Total Recovered</th>\n",
              "      <th>Daily Deceased</th>\n",
              "      <th>Total Deceased</th>\n",
              "    </tr>\n",
              "  </thead>\n",
              "  <tbody>\n",
              "    <tr>\n",
              "      <th>0</th>\n",
              "      <td>30 January 2020</td>\n",
              "      <td>2020-01-30</td>\n",
              "      <td>1</td>\n",
              "      <td>1</td>\n",
              "      <td>0</td>\n",
              "      <td>0</td>\n",
              "      <td>0</td>\n",
              "      <td>0</td>\n",
              "    </tr>\n",
              "    <tr>\n",
              "      <th>1</th>\n",
              "      <td>31 January 2020</td>\n",
              "      <td>2020-01-31</td>\n",
              "      <td>0</td>\n",
              "      <td>1</td>\n",
              "      <td>0</td>\n",
              "      <td>0</td>\n",
              "      <td>0</td>\n",
              "      <td>0</td>\n",
              "    </tr>\n",
              "    <tr>\n",
              "      <th>2</th>\n",
              "      <td>1 February 2020</td>\n",
              "      <td>2020-02-01</td>\n",
              "      <td>0</td>\n",
              "      <td>1</td>\n",
              "      <td>0</td>\n",
              "      <td>0</td>\n",
              "      <td>0</td>\n",
              "      <td>0</td>\n",
              "    </tr>\n",
              "    <tr>\n",
              "      <th>3</th>\n",
              "      <td>2 February 2020</td>\n",
              "      <td>2020-02-02</td>\n",
              "      <td>1</td>\n",
              "      <td>2</td>\n",
              "      <td>0</td>\n",
              "      <td>0</td>\n",
              "      <td>0</td>\n",
              "      <td>0</td>\n",
              "    </tr>\n",
              "    <tr>\n",
              "      <th>4</th>\n",
              "      <td>3 February 2020</td>\n",
              "      <td>2020-02-03</td>\n",
              "      <td>1</td>\n",
              "      <td>3</td>\n",
              "      <td>0</td>\n",
              "      <td>0</td>\n",
              "      <td>0</td>\n",
              "      <td>0</td>\n",
              "    </tr>\n",
              "  </tbody>\n",
              "</table>\n",
              "</div>"
            ],
            "text/plain": [
              "              Date    Date_YMD  ...  Daily Deceased  Total Deceased\n",
              "0  30 January 2020  2020-01-30  ...               0               0\n",
              "1  31 January 2020  2020-01-31  ...               0               0\n",
              "2  1 February 2020  2020-02-01  ...               0               0\n",
              "3  2 February 2020  2020-02-02  ...               0               0\n",
              "4  3 February 2020  2020-02-03  ...               0               0\n",
              "\n",
              "[5 rows x 8 columns]"
            ]
          },
          "metadata": {
            "tags": []
          },
          "execution_count": 57
        }
      ]
    },
    {
      "cell_type": "code",
      "metadata": {
        "ExecuteTime": {
          "end_time": "2020-03-01T07:13:46.587171Z",
          "start_time": "2020-03-01T07:13:46.547239Z"
        },
        "id": "3460O1vUD7VL",
        "colab": {
          "base_uri": "https://localhost:8080/",
          "height": 300
        },
        "outputId": "cfe5758b-e7e7-454f-e391-b9fedd891a2e"
      },
      "source": [
        "df.describe()"
      ],
      "execution_count": null,
      "outputs": [
        {
          "output_type": "execute_result",
          "data": {
            "text/html": [
              "<div>\n",
              "<style scoped>\n",
              "    .dataframe tbody tr th:only-of-type {\n",
              "        vertical-align: middle;\n",
              "    }\n",
              "\n",
              "    .dataframe tbody tr th {\n",
              "        vertical-align: top;\n",
              "    }\n",
              "\n",
              "    .dataframe thead th {\n",
              "        text-align: right;\n",
              "    }\n",
              "</style>\n",
              "<table border=\"1\" class=\"dataframe\">\n",
              "  <thead>\n",
              "    <tr style=\"text-align: right;\">\n",
              "      <th></th>\n",
              "      <th>Daily Confirmed</th>\n",
              "      <th>Total Confirmed</th>\n",
              "      <th>Daily Recovered</th>\n",
              "      <th>Total Recovered</th>\n",
              "      <th>Daily Deceased</th>\n",
              "      <th>Total Deceased</th>\n",
              "    </tr>\n",
              "  </thead>\n",
              "  <tbody>\n",
              "    <tr>\n",
              "      <th>count</th>\n",
              "      <td>478.000000</td>\n",
              "      <td>4.780000e+02</td>\n",
              "      <td>478.000000</td>\n",
              "      <td>4.780000e+02</td>\n",
              "      <td>478.000000</td>\n",
              "      <td>478.000000</td>\n",
              "    </tr>\n",
              "    <tr>\n",
              "      <th>mean</th>\n",
              "      <td>54995.529289</td>\n",
              "      <td>6.294503e+06</td>\n",
              "      <td>48249.930962</td>\n",
              "      <td>5.657688e+06</td>\n",
              "      <td>617.089958</td>\n",
              "      <td>87415.654812</td>\n",
              "    </tr>\n",
              "    <tr>\n",
              "      <th>std</th>\n",
              "      <td>87250.607082</td>\n",
              "      <td>6.199014e+06</td>\n",
              "      <td>77991.369440</td>\n",
              "      <td>5.565253e+06</td>\n",
              "      <td>895.591405</td>\n",
              "      <td>75238.905902</td>\n",
              "    </tr>\n",
              "    <tr>\n",
              "      <th>min</th>\n",
              "      <td>0.000000</td>\n",
              "      <td>1.000000e+00</td>\n",
              "      <td>0.000000</td>\n",
              "      <td>0.000000e+00</td>\n",
              "      <td>0.000000</td>\n",
              "      <td>0.000000</td>\n",
              "    </tr>\n",
              "    <tr>\n",
              "      <th>25%</th>\n",
              "      <td>7371.250000</td>\n",
              "      <td>1.673925e+05</td>\n",
              "      <td>3812.250000</td>\n",
              "      <td>7.382975e+04</td>\n",
              "      <td>100.000000</td>\n",
              "      <td>4777.250000</td>\n",
              "    </tr>\n",
              "    <tr>\n",
              "      <th>50%</th>\n",
              "      <td>23662.000000</td>\n",
              "      <td>5.858972e+06</td>\n",
              "      <td>20573.000000</td>\n",
              "      <td>4.799650e+06</td>\n",
              "      <td>342.000000</td>\n",
              "      <td>92279.500000</td>\n",
              "    </tr>\n",
              "    <tr>\n",
              "      <th>75%</th>\n",
              "      <td>61675.500000</td>\n",
              "      <td>1.063689e+07</td>\n",
              "      <td>58095.750000</td>\n",
              "      <td>1.029560e+07</td>\n",
              "      <td>775.000000</td>\n",
              "      <td>152591.750000</td>\n",
              "    </tr>\n",
              "    <tr>\n",
              "      <th>max</th>\n",
              "      <td>414280.000000</td>\n",
              "      <td>2.628786e+07</td>\n",
              "      <td>422391.000000</td>\n",
              "      <td>2.306347e+07</td>\n",
              "      <td>4529.000000</td>\n",
              "      <td>294969.000000</td>\n",
              "    </tr>\n",
              "  </tbody>\n",
              "</table>\n",
              "</div>"
            ],
            "text/plain": [
              "       Daily Confirmed  Total Confirmed  ...  Daily Deceased  Total Deceased\n",
              "count       478.000000     4.780000e+02  ...      478.000000      478.000000\n",
              "mean      54995.529289     6.294503e+06  ...      617.089958    87415.654812\n",
              "std       87250.607082     6.199014e+06  ...      895.591405    75238.905902\n",
              "min           0.000000     1.000000e+00  ...        0.000000        0.000000\n",
              "25%        7371.250000     1.673925e+05  ...      100.000000     4777.250000\n",
              "50%       23662.000000     5.858972e+06  ...      342.000000    92279.500000\n",
              "75%       61675.500000     1.063689e+07  ...      775.000000   152591.750000\n",
              "max      414280.000000     2.628786e+07  ...     4529.000000   294969.000000\n",
              "\n",
              "[8 rows x 6 columns]"
            ]
          },
          "metadata": {
            "tags": []
          },
          "execution_count": 58
        }
      ]
    },
    {
      "cell_type": "code",
      "metadata": {
        "ExecuteTime": {
          "end_time": "2020-03-01T07:13:49.447517Z",
          "start_time": "2020-03-01T07:13:49.435511Z"
        },
        "id": "TVhHI7SPD7VN"
      },
      "source": [
        "validate = df['Daily Confirmed'].tail(10)\n",
        "df.drop(df['Daily Confirmed'].tail(10).index,inplace=True)"
      ],
      "execution_count": null,
      "outputs": []
    },
    {
      "cell_type": "code",
      "metadata": {
        "ExecuteTime": {
          "end_time": "2020-03-01T07:13:50.571471Z",
          "start_time": "2020-03-01T07:13:50.563492Z"
        },
        "id": "MEhY3nhjD7VO",
        "colab": {
          "base_uri": "https://localhost:8080/"
        },
        "outputId": "d8f758f1-7c9b-41ef-839f-27837eb479b6"
      },
      "source": [
        "uni_data = df['Daily Confirmed']\n",
        "df['Date_YMD'] =  pd.to_datetime(df['Date_YMD'])\n",
        "uni_data.index = df['Date_YMD']\n",
        "uni_data.head()"
      ],
      "execution_count": null,
      "outputs": [
        {
          "output_type": "execute_result",
          "data": {
            "text/plain": [
              "Date_YMD\n",
              "2020-01-30    1\n",
              "2020-01-31    0\n",
              "2020-02-01    0\n",
              "2020-02-02    1\n",
              "2020-02-03    1\n",
              "Name: Daily Confirmed, dtype: int64"
            ]
          },
          "metadata": {
            "tags": []
          },
          "execution_count": 60
        }
      ]
    },
    {
      "cell_type": "code",
      "metadata": {
        "ExecuteTime": {
          "end_time": "2020-03-01T07:13:52.283889Z",
          "start_time": "2020-03-01T07:13:52.277939Z"
        },
        "id": "y0qOvlBzD7VP"
      },
      "source": [
        "uni_data = uni_data.values\n",
        "scaler_x = preprocessing.MinMaxScaler()\n",
        "x_rescaled = scaler_x.fit_transform(uni_data.reshape(-1, 1))"
      ],
      "execution_count": null,
      "outputs": []
    },
    {
      "cell_type": "code",
      "metadata": {
        "ExecuteTime": {
          "end_time": "2020-03-01T07:13:53.485675Z",
          "start_time": "2020-03-01T07:13:53.478694Z"
        },
        "id": "-HaHipwND7VQ"
      },
      "source": [
        "def custom_ts_univariate_data_prep(dataset, start, end, window, horizon):\n",
        "    X = []\n",
        "    y = []\n",
        "\n",
        "    start = start + window\n",
        "    if end is None:\n",
        "        end = len(dataset) - horizon\n",
        "\n",
        "    for i in range(start, end):\n",
        "        indicesx = range(i-window, i)\n",
        "        X.append(np.reshape(dataset[indicesx], (window, 1)))\n",
        "        indicesy = range(i, i+horizon)\n",
        "        y.append(dataset[indicesy])\n",
        "    return np.array(X), np.array(y)"
      ],
      "execution_count": null,
      "outputs": []
    },
    {
      "cell_type": "code",
      "metadata": {
        "ExecuteTime": {
          "end_time": "2020-03-01T07:13:55.962050Z",
          "start_time": "2020-03-01T07:13:54.856011Z"
        },
        "id": "guCW2HpED7VR"
      },
      "source": [
        "univar_hist_window = 48\n",
        "horizon = 10\n",
        "TRAIN_SPLIT = 400\n",
        "x_train_uni, y_train_uni = custom_ts_univariate_data_prep(x_rescaled, 0, TRAIN_SPLIT,univar_hist_window, horizon)\n",
        "x_val_uni, y_val_uni = custom_ts_univariate_data_prep(x_rescaled, TRAIN_SPLIT, None,univar_hist_window,horizon)"
      ],
      "execution_count": null,
      "outputs": []
    },
    {
      "cell_type": "code",
      "metadata": {
        "ExecuteTime": {
          "end_time": "2020-03-01T07:13:55.973018Z",
          "start_time": "2020-03-01T07:13:55.964044Z"
        },
        "id": "DsWJwIYXD7VS",
        "colab": {
          "base_uri": "https://localhost:8080/"
        },
        "outputId": "b912784c-429f-4223-87a2-1be41cad0846"
      },
      "source": [
        "print ('Single window of past history')\n",
        "print (x_train_uni[0])\n",
        "print ('\\n Target horizon')\n",
        "print (y_train_uni[0])"
      ],
      "execution_count": null,
      "outputs": [
        {
          "output_type": "stream",
          "text": [
            "Single window of past history\n",
            "[[2.41382640e-06]\n",
            " [0.00000000e+00]\n",
            " [0.00000000e+00]\n",
            " [2.41382640e-06]\n",
            " [2.41382640e-06]\n",
            " [0.00000000e+00]\n",
            " [0.00000000e+00]\n",
            " [0.00000000e+00]\n",
            " [0.00000000e+00]\n",
            " [0.00000000e+00]\n",
            " [0.00000000e+00]\n",
            " [0.00000000e+00]\n",
            " [0.00000000e+00]\n",
            " [0.00000000e+00]\n",
            " [0.00000000e+00]\n",
            " [0.00000000e+00]\n",
            " [0.00000000e+00]\n",
            " [0.00000000e+00]\n",
            " [0.00000000e+00]\n",
            " [0.00000000e+00]\n",
            " [0.00000000e+00]\n",
            " [0.00000000e+00]\n",
            " [0.00000000e+00]\n",
            " [0.00000000e+00]\n",
            " [0.00000000e+00]\n",
            " [0.00000000e+00]\n",
            " [0.00000000e+00]\n",
            " [0.00000000e+00]\n",
            " [0.00000000e+00]\n",
            " [0.00000000e+00]\n",
            " [0.00000000e+00]\n",
            " [0.00000000e+00]\n",
            " [4.82765280e-06]\n",
            " [2.41382640e-06]\n",
            " [5.31041807e-05]\n",
            " [4.82765280e-06]\n",
            " [2.41382640e-06]\n",
            " [7.24147919e-06]\n",
            " [1.20691320e-05]\n",
            " [2.17244376e-05]\n",
            " [3.62073960e-05]\n",
            " [1.93106112e-05]\n",
            " [2.41382640e-05]\n",
            " [2.41382640e-05]\n",
            " [2.65520904e-05]\n",
            " [2.41382640e-05]\n",
            " [3.37935696e-05]\n",
            " [4.82765280e-05]]\n",
            "\n",
            " Target horizon\n",
            "[[6.03456599e-05]\n",
            " [6.51733127e-05]\n",
            " [1.40001931e-04]\n",
            " [1.88278459e-04]\n",
            " [1.66554021e-04]\n",
            " [2.26899681e-04]\n",
            " [1.78623153e-04]\n",
            " [2.07589070e-04]\n",
            " [1.76209327e-04]\n",
            " [3.69315439e-04]]\n"
          ],
          "name": "stdout"
        }
      ]
    },
    {
      "cell_type": "code",
      "metadata": {
        "ExecuteTime": {
          "end_time": "2020-03-01T07:13:59.290175Z",
          "start_time": "2020-03-01T07:13:58.155178Z"
        },
        "id": "SKKiTEN8D7VW"
      },
      "source": [
        "BATCH_SIZE = 20\n",
        "BUFFER_SIZE = 150\n",
        "\n",
        "train_univariate = tf.data.Dataset.from_tensor_slices((x_train_uni, y_train_uni))\n",
        "train_univariate = train_univariate.cache().shuffle(BUFFER_SIZE).batch(BATCH_SIZE).repeat()\n",
        "\n",
        "val_univariate = tf.data.Dataset.from_tensor_slices((x_val_uni, y_val_uni))\n",
        "val_univariate = val_univariate.batch(BATCH_SIZE).repeat()"
      ],
      "execution_count": null,
      "outputs": []
    },
    {
      "cell_type": "code",
      "metadata": {
        "ExecuteTime": {
          "end_time": "2020-03-01T07:14:16.892043Z",
          "start_time": "2020-03-01T07:14:16.274695Z"
        },
        "id": "3xe9PN-gD7VX"
      },
      "source": [
        "lstm_model = tf.keras.models.Sequential([\n",
        "    tf.keras.layers.LSTM(100, input_shape=x_train_uni.shape[-2:],return_sequences=True),\n",
        "    tf.keras.layers.Dropout(0.2),\n",
        "    tf.keras.layers.LSTM(units=50,return_sequences=False),\n",
        "    tf.keras.layers.Dropout(0.2),\n",
        "    tf.keras.layers.Dense(units=horizon),\n",
        "])\n",
        "lstm_model.compile(optimizer='adam', loss='mse')\n"
      ],
      "execution_count": null,
      "outputs": []
    },
    {
      "cell_type": "code",
      "metadata": {
        "ExecuteTime": {
          "end_time": "2020-03-01T07:14:18.019064Z",
          "start_time": "2020-03-01T07:14:18.015039Z"
        },
        "id": "slNSCraDD7VY"
      },
      "source": [
        "model_path = r'\\Chapter 6\\LSTM_Univarient_1.h5'"
      ],
      "execution_count": null,
      "outputs": []
    },
    {
      "cell_type": "code",
      "metadata": {
        "ExecuteTime": {
          "end_time": "2020-03-01T07:16:24.451726Z",
          "start_time": "2020-03-01T07:14:19.239764Z"
        },
        "id": "STHEheTED7VY",
        "colab": {
          "base_uri": "https://localhost:8080/"
        },
        "outputId": "ef5fead7-6d54-4bbc-aba8-32b9ee08e203"
      },
      "source": [
        "EVALUATION_INTERVAL = 100\n",
        "EPOCHS = 150\n",
        "history = lstm_model.fit(train_univariate, epochs=EPOCHS,steps_per_epoch=EVALUATION_INTERVAL,validation_data=val_univariate, validation_steps=50,verbose =1,\n",
        "                              callbacks =[tf.keras.callbacks.EarlyStopping(monitor='val_loss', min_delta=0, patience=10, verbose=1, mode='min'),tf.keras.callbacks.ModelCheckpoint(model_path,monitor='val_loss', save_best_only=True, mode='min', verbose=0)])"
      ],
      "execution_count": null,
      "outputs": [
        {
          "output_type": "stream",
          "text": [
            "Epoch 1/150\n",
            "100/100 [==============================] - 4s 14ms/step - loss: 0.0030 - val_loss: 0.1140\n",
            "Epoch 2/150\n",
            "100/100 [==============================] - 1s 8ms/step - loss: 5.0176e-04 - val_loss: 0.0917\n",
            "Epoch 3/150\n",
            "100/100 [==============================] - 1s 8ms/step - loss: 4.0815e-04 - val_loss: 0.0846\n",
            "Epoch 4/150\n",
            "100/100 [==============================] - 1s 8ms/step - loss: 3.2104e-04 - val_loss: 0.0948\n",
            "Epoch 5/150\n",
            "100/100 [==============================] - 1s 8ms/step - loss: 3.0140e-04 - val_loss: 0.1122\n",
            "Epoch 6/150\n",
            "100/100 [==============================] - 1s 8ms/step - loss: 2.7446e-04 - val_loss: 0.1207\n",
            "Epoch 7/150\n",
            "100/100 [==============================] - 1s 8ms/step - loss: 2.8007e-04 - val_loss: 0.0957\n",
            "Epoch 8/150\n",
            "100/100 [==============================] - 1s 8ms/step - loss: 2.5793e-04 - val_loss: 0.1019\n",
            "Epoch 9/150\n",
            "100/100 [==============================] - 1s 8ms/step - loss: 2.6577e-04 - val_loss: 0.1153\n",
            "Epoch 10/150\n",
            "100/100 [==============================] - 1s 8ms/step - loss: 2.4434e-04 - val_loss: 0.1146\n",
            "Epoch 11/150\n",
            "100/100 [==============================] - 1s 8ms/step - loss: 2.2760e-04 - val_loss: 0.1188\n",
            "Epoch 12/150\n",
            "100/100 [==============================] - 1s 8ms/step - loss: 2.1995e-04 - val_loss: 0.0907\n",
            "Epoch 13/150\n",
            "100/100 [==============================] - 1s 8ms/step - loss: 2.1735e-04 - val_loss: 0.0931\n",
            "Epoch 00013: early stopping\n"
          ],
          "name": "stdout"
        }
      ]
    },
    {
      "cell_type": "code",
      "metadata": {
        "ExecuteTime": {
          "end_time": "2020-03-01T07:16:36.476586Z",
          "start_time": "2020-03-01T07:16:34.403100Z"
        },
        "id": "lq4qzOXSD7VZ"
      },
      "source": [
        "# Recreate the exact same model, including its weights and the optimizer\n",
        "Trained_model = tf.keras.models.load_model(model_path)\n"
      ],
      "execution_count": null,
      "outputs": []
    },
    {
      "cell_type": "code",
      "metadata": {
        "ExecuteTime": {
          "end_time": "2020-03-01T07:16:36.484534Z",
          "start_time": "2020-03-01T07:16:36.478546Z"
        },
        "id": "7fcfLg64D7VZ",
        "colab": {
          "base_uri": "https://localhost:8080/"
        },
        "outputId": "e003e34f-a6aa-4c7a-c14f-da780196a94d"
      },
      "source": [
        "# Show the model architecture\n",
        "Trained_model.summary()"
      ],
      "execution_count": null,
      "outputs": [
        {
          "output_type": "stream",
          "text": [
            "Model: \"sequential_3\"\n",
            "_________________________________________________________________\n",
            "Layer (type)                 Output Shape              Param #   \n",
            "=================================================================\n",
            "lstm_6 (LSTM)                (None, 48, 100)           40800     \n",
            "_________________________________________________________________\n",
            "dropout_6 (Dropout)          (None, 48, 100)           0         \n",
            "_________________________________________________________________\n",
            "lstm_7 (LSTM)                (None, 50)                30200     \n",
            "_________________________________________________________________\n",
            "dropout_7 (Dropout)          (None, 50)                0         \n",
            "_________________________________________________________________\n",
            "dense_3 (Dense)              (None, 10)                510       \n",
            "=================================================================\n",
            "Total params: 71,510\n",
            "Trainable params: 71,510\n",
            "Non-trainable params: 0\n",
            "_________________________________________________________________\n"
          ],
          "name": "stdout"
        }
      ]
    },
    {
      "cell_type": "code",
      "metadata": {
        "ExecuteTime": {
          "end_time": "2020-03-01T07:16:39.682012Z",
          "start_time": "2020-03-01T07:16:39.426657Z"
        },
        "id": "90Z_rm5ZD7Va",
        "colab": {
          "base_uri": "https://localhost:8080/",
          "height": 567
        },
        "outputId": "2ef90628-cc3e-4cc7-e9b6-19723c623680"
      },
      "source": [
        "plt.plot(history.history['loss'])\n",
        "plt.plot(history.history['val_loss'])\n",
        "plt.title('Model loss')\n",
        "plt.ylabel('loss')\n",
        "plt.xlabel('epoch')\n",
        "plt.legend(['train loss', 'validation loss'], loc='upper left')\n",
        "plt.rcParams[\"figure.figsize\"] = [16,9]\n",
        "plt.show()"
      ],
      "execution_count": null,
      "outputs": [
        {
          "output_type": "display_data",
          "data": {
            "image/png": "[encoded data removed]",
            "text/plain": [
              "<Figure size 1152x648 with 1 Axes>"
            ]
          },
          "metadata": {
            "tags": [],
            "needs_background": "light"
          }
        }
      ]
    },
    {
      "cell_type": "code",
      "metadata": {
        "ExecuteTime": {
          "end_time": "2020-03-01T07:16:41.190938Z",
          "start_time": "2020-03-01T07:16:41.186947Z"
        },
        "id": "84Dc3337D7Vb"
      },
      "source": [
        "uni = df['Daily Confirmed']\n",
        "validatehori = uni.tail(70)"
      ],
      "execution_count": null,
      "outputs": []
    },
    {
      "cell_type": "code",
      "metadata": {
        "ExecuteTime": {
          "end_time": "2020-03-01T07:16:42.932278Z",
          "start_time": "2020-03-01T07:16:42.927290Z"
        },
        "id": "UeCPxyVSD7Vb"
      },
      "source": [
        "validatehist = validatehori.values\n",
        "scaler_val = preprocessing.MinMaxScaler()\n",
        "val_rescaled = scaler_x.fit_transform(validatehist.reshape(-1, 1))"
      ],
      "execution_count": null,
      "outputs": []
    },
    {
      "cell_type": "code",
      "metadata": {
        "ExecuteTime": {
          "end_time": "2020-03-01T07:16:44.109130Z",
          "start_time": "2020-03-01T07:16:44.103144Z"
        },
        "id": "uncyChJhD7Vc"
      },
      "source": [
        "val_rescaled = val_rescaled.reshape((1, val_rescaled.shape[0], 1))"
      ],
      "execution_count": null,
      "outputs": []
    },
    {
      "cell_type": "code",
      "metadata": {
        "ExecuteTime": {
          "end_time": "2020-03-01T07:16:45.754759Z",
          "start_time": "2020-03-01T07:16:45.379757Z"
        },
        "id": "B47DtvtHD7Vc",
        "colab": {
          "base_uri": "https://localhost:8080/"
        },
        "outputId": "6f1cfb6c-53a4-4db4-a056-4826e5e8d723"
      },
      "source": [
        "Predicted_results = Trained_model.predict(val_rescaled)"
      ],
      "execution_count": null,
      "outputs": [
        {
          "output_type": "stream",
          "text": [
            "WARNING:tensorflow:Model was constructed with shape (None, 48, 1) for input KerasTensor(type_spec=TensorSpec(shape=(None, 48, 1), dtype=tf.float32, name='lstm_6_input'), name='lstm_6_input', description=\"created by layer 'lstm_6_input'\"), but it was called on an input with incompatible shape (None, 70, 1).\n"
          ],
          "name": "stdout"
        }
      ]
    },
    {
      "cell_type": "code",
      "metadata": {
        "ExecuteTime": {
          "end_time": "2020-03-01T07:16:46.424931Z",
          "start_time": "2020-03-01T07:16:46.418950Z"
        },
        "id": "8TCNA1jBD7Vc",
        "colab": {
          "base_uri": "https://localhost:8080/"
        },
        "outputId": "fc6c434d-1db9-4da3-8fdc-3bf369345b8a"
      },
      "source": [
        "Predicted_results"
      ],
      "execution_count": null,
      "outputs": [
        {
          "output_type": "execute_result",
          "data": {
            "text/plain": [
              "array([[0.5386238 , 0.5034895 , 0.48033714, 0.4873345 , 0.47240052,\n",
              "        0.43713033, 0.46812943, 0.42542267, 0.37852877, 0.4119263 ]],\n",
              "      dtype=float32)"
            ]
          },
          "metadata": {
            "tags": []
          },
          "execution_count": 93
        }
      ]
    },
    {
      "cell_type": "code",
      "metadata": {
        "ExecuteTime": {
          "end_time": "2020-03-01T07:16:47.980769Z",
          "start_time": "2020-03-01T07:16:47.974786Z"
        },
        "id": "DPdj1dijD7Vd"
      },
      "source": [
        "Predicted_inver_res = scaler_x.inverse_transform(Predicted_results)"
      ],
      "execution_count": null,
      "outputs": []
    },
    {
      "cell_type": "code",
      "metadata": {
        "ExecuteTime": {
          "end_time": "2020-03-01T07:16:49.115767Z",
          "start_time": "2020-03-01T07:16:49.110745Z"
        },
        "id": "zIeLK-vrD7Vd",
        "colab": {
          "base_uri": "https://localhost:8080/"
        },
        "outputId": "bb979493-68b1-4087-f789-08149c367d1a"
      },
      "source": [
        "Predicted_inver_res"
      ],
      "execution_count": null,
      "outputs": [
        {
          "output_type": "execute_result",
          "data": {
            "text/plain": [
              "array([[230224.6 , 216208.56, 206972.47, 209763.89, 203806.31, 189736.1 ,\n",
              "        202102.47, 185065.6 , 166358.34, 179681.52]], dtype=float32)"
            ]
          },
          "metadata": {
            "tags": []
          },
          "execution_count": 95
        }
      ]
    },
    {
      "cell_type": "code",
      "metadata": {
        "ExecuteTime": {
          "end_time": "2020-03-01T07:16:50.674598Z",
          "start_time": "2020-03-01T07:16:50.642649Z"
        },
        "id": "z19XjyiPD7Ve"
      },
      "source": [
        "from sklearn import metrics\n",
        "def timeseries_evaluation_metrics_func(y_true, y_pred):\n",
        "    \n",
        "    def mean_absolute_percentage_error(y_true, y_pred): \n",
        "        y_true, y_pred = np.array(y_true), np.array(y_pred)\n",
        "        return np.mean(np.abs((y_true - y_pred) / y_true)) * 100\n",
        "    print('Evaluation metric results:-')\n",
        "    print(f'MSE is : {metrics.mean_squared_error(y_true, y_pred)}')\n",
        "    print(f'MAE is : {metrics.mean_absolute_error(y_true, y_pred)}')\n",
        "    print(f'RMSE is : {np.sqrt(metrics.mean_squared_error(y_true, y_pred))}')\n",
        "    print(f'MAPE is : {mean_absolute_percentage_error(y_true, y_pred)}')\n",
        "    print(f'R2 is : {metrics.r2_score(y_true, y_pred)}',end='\\n\\n')"
      ],
      "execution_count": null,
      "outputs": []
    },
    {
      "cell_type": "code",
      "metadata": {
        "ExecuteTime": {
          "end_time": "2020-03-01T07:16:52.247354Z",
          "start_time": "2020-03-01T07:16:52.239373Z"
        },
        "id": "OzsZflISD7Vf",
        "colab": {
          "base_uri": "https://localhost:8080/"
        },
        "outputId": "97edc14b-65ea-474c-acaa-1ba3aa26634a"
      },
      "source": [
        "timeseries_evaluation_metrics_func(validate,Predicted_inver_res[0])"
      ],
      "execution_count": null,
      "outputs": [
        {
          "output_type": "stream",
          "text": [
            "Evaluation metric results:-\n",
            "MSE is : 9669642374.968212\n",
            "MAE is : 95756.815625\n",
            "RMSE is : 98334.33975457512\n",
            "MAPE is : 32.14540172403509\n",
            "R2 is : -6.3684324624331925\n",
            "\n"
          ],
          "name": "stdout"
        }
      ]
    },
    {
      "cell_type": "code",
      "metadata": {
        "ExecuteTime": {
          "end_time": "2020-03-01T07:16:54.101394Z",
          "start_time": "2020-03-01T07:16:53.850065Z"
        },
        "id": "Gh92BFEwD7Vf",
        "colab": {
          "base_uri": "https://localhost:8080/",
          "height": 553
        },
        "outputId": "415baeb5-c63d-48d2-812d-b001dcb207a8"
      },
      "source": [
        "plt.plot( list(validate))\n",
        "plt.plot( list(Predicted_inver_res[0]))\n",
        "plt.title(\"Actual vs Predicted\")\n",
        "plt.ylabel(\"Daily Confirmed\")\n",
        "plt.legend(('Actual','predicted'))\n",
        "plt.show()"
      ],
      "execution_count": null,
      "outputs": [
        {
          "output_type": "display_data",
          "data": {
            "image/png": "[encoded data removed]",
            "text/plain": [
              "<Figure size 1152x648 with 1 Axes>"
            ]
          },
          "metadata": {
            "tags": [],
            "needs_background": "light"
          }
        }
      ]
    },
    {
      "cell_type": "code",
      "metadata": {
        "id": "L-CWM9JHkjWk"
      },
      "source": [
        ""
      ],
      "execution_count": null,
      "outputs": []
    }
  ]
}